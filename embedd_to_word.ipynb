{
 "cells": [
  {
   "cell_type": "code",
   "execution_count": 1,
   "metadata": {},
   "outputs": [
    {
     "name": "stderr",
     "output_type": "stream",
     "text": [
      "/opt/conda/lib/python3.7/site-packages/tqdm/auto.py:22: TqdmWarning: IProgress not found. Please update jupyter and ipywidgets. See https://ipywidgets.readthedocs.io/en/stable/user_install.html\n",
      "  from .autonotebook import tqdm as notebook_tqdm\n"
     ]
    }
   ],
   "source": [
    "'''\n",
    "Prepare the model and tokenizer\n",
    "'''\n",
    "from transformers import RobertaTokenizer, RobertaForMaskedLM\n",
    "import torch\n",
    "\n",
    "tokenizer = RobertaTokenizer.from_pretrained(\"roberta-large\")\n",
    "model = RobertaForMaskedLM.from_pretrained(\"roberta-large\")\n",
    "\n"
   ]
  },
  {
   "cell_type": "code",
   "execution_count": 8,
   "metadata": {},
   "outputs": [
    {
     "ename": "FileNotFoundError",
     "evalue": "[Errno 2] No such file or directory: '/model_file/roberta_large_embeddings.pkl'",
     "output_type": "error",
     "traceback": [
      "\u001b[0;31m---------------------------------------------------------------------------\u001b[0m",
      "\u001b[0;31mFileNotFoundError\u001b[0m                         Traceback (most recent call last)",
      "\u001b[0;32m<ipython-input-8-64721d3ab213>\u001b[0m in \u001b[0;36m<module>\u001b[0;34m\u001b[0m\n\u001b[1;32m     10\u001b[0m \u001b[0membeddings\u001b[0m \u001b[0;34m=\u001b[0m \u001b[0mtorch\u001b[0m\u001b[0;34m.\u001b[0m\u001b[0mstack\u001b[0m\u001b[0;34m(\u001b[0m\u001b[0membeddings\u001b[0m\u001b[0;34m)\u001b[0m\u001b[0;34m\u001b[0m\u001b[0;34m\u001b[0m\u001b[0m\n\u001b[1;32m     11\u001b[0m \u001b[0;34m\u001b[0m\u001b[0m\n\u001b[0;32m---> 12\u001b[0;31m \u001b[0;32mwith\u001b[0m \u001b[0mopen\u001b[0m\u001b[0;34m(\u001b[0m\u001b[0;34mf'/model_file/roberta_large_embeddings.pkl'\u001b[0m\u001b[0;34m,\u001b[0m \u001b[0;34m'wb'\u001b[0m\u001b[0;34m)\u001b[0m \u001b[0;32mas\u001b[0m \u001b[0mf\u001b[0m\u001b[0;34m:\u001b[0m\u001b[0;34m\u001b[0m\u001b[0;34m\u001b[0m\u001b[0m\n\u001b[0m\u001b[1;32m     13\u001b[0m     \u001b[0mpickle\u001b[0m\u001b[0;34m.\u001b[0m\u001b[0mdump\u001b[0m\u001b[0;34m(\u001b[0m\u001b[0membeddings\u001b[0m\u001b[0;34m,\u001b[0m \u001b[0mf\u001b[0m\u001b[0;34m)\u001b[0m\u001b[0;34m\u001b[0m\u001b[0;34m\u001b[0m\u001b[0m\n\u001b[1;32m     14\u001b[0m \u001b[0membeddings\u001b[0m\u001b[0;34m\u001b[0m\u001b[0;34m\u001b[0m\u001b[0m\n",
      "\u001b[0;31mFileNotFoundError\u001b[0m: [Errno 2] No such file or directory: '/model_file/roberta_large_embeddings.pkl'"
     ]
    }
   ],
   "source": [
    "'''\n",
    "roberta tokenizer id to continous\n",
    "Download the roberta-large embeddings\n",
    "'''\n",
    "import pickle\n",
    "import os\n",
    "embeddings = []\n",
    "for i in range(tokenizer.decoder.__len__()):\n",
    "    embeddings.append(model.roberta.embeddings.word_embeddings(torch.tensor(i)))\n",
    "embeddings = torch.stack(embeddings)\n",
    "\n",
    "with open(f'/model_file/roberta_large_embeddings.pkl', 'wb') as f:\n",
    "    pickle.dump(embeddings, f)\n",
    "embeddings"
   ]
  },
  {
   "cell_type": "code",
   "execution_count": 16,
   "metadata": {},
   "outputs": [],
   "source": [
    "with open('/workspace/dataset/roberta_large_embeddings.pkl', \"rb\") as f:\n",
    "    data = pickle.load(f)"
   ]
  },
  {
   "cell_type": "code",
   "execution_count": 9,
   "metadata": {},
   "outputs": [
    {
     "ename": "FileNotFoundError",
     "evalue": "[Errno 2] No such file or directory: '/dataset/roberta_large_embeddings.pkl'",
     "output_type": "error",
     "traceback": [
      "\u001b[0;31m---------------------------------------------------------------------------\u001b[0m",
      "\u001b[0;31mFileNotFoundError\u001b[0m                         Traceback (most recent call last)",
      "\u001b[0;32m<ipython-input-9-d950e628c778>\u001b[0m in \u001b[0;36m<module>\u001b[0;34m\u001b[0m\n\u001b[0;32m----> 1\u001b[0;31m \u001b[0;32mwith\u001b[0m \u001b[0mopen\u001b[0m\u001b[0;34m(\u001b[0m\u001b[0;34mf'/dataset/roberta_large_embeddings.pkl'\u001b[0m\u001b[0;34m,\u001b[0m \u001b[0;34m'wb'\u001b[0m\u001b[0;34m)\u001b[0m \u001b[0;32mas\u001b[0m \u001b[0mf\u001b[0m\u001b[0;34m:\u001b[0m\u001b[0;34m\u001b[0m\u001b[0;34m\u001b[0m\u001b[0m\n\u001b[0m\u001b[1;32m      2\u001b[0m     \u001b[0mpickle\u001b[0m\u001b[0;34m.\u001b[0m\u001b[0mdump\u001b[0m\u001b[0;34m(\u001b[0m\u001b[0membeddings\u001b[0m\u001b[0;34m,\u001b[0m \u001b[0mf\u001b[0m\u001b[0;34m)\u001b[0m\u001b[0;34m\u001b[0m\u001b[0;34m\u001b[0m\u001b[0m\n",
      "\u001b[0;31mFileNotFoundError\u001b[0m: [Errno 2] No such file or directory: '/dataset/roberta_large_embeddings.pkl'"
     ]
    }
   ],
   "source": [
    "with open(f'/dataset/roberta_large_embeddings.pkl', 'wb') as f:\n",
    "    pickle.dump(embeddings, f)"
   ]
  },
  {
   "cell_type": "code",
   "execution_count": 6,
   "metadata": {},
   "outputs": [
    {
     "data": {
      "text/plain": [
       "['hide new secretions from the parental units ',\n",
       " 'contains no wit , only labored gags ',\n",
       " 'that loves its characters and communicates something rather beautiful about human nature ',\n",
       " 'remains utterly satisfied to remain the same throughout ',\n",
       " 'on the worst revenge-of-the-nerds clichés the filmmakers could dredge up ',\n",
       " \"that 's far too tragic to merit such superficial treatment \",\n",
       " 'demonstrates that the director of such hollywood blockbusters as patriot games can still turn out a small , personal film with an emotional wallop . ',\n",
       " 'of saucy ',\n",
       " \"a depressed fifteen-year-old 's suicidal poetry \",\n",
       " \"are more deeply thought through than in most ` right-thinking ' films \"]"
      ]
     },
     "execution_count": 6,
     "metadata": {},
     "output_type": "execute_result"
    }
   ],
   "source": [
    "'''\n",
    "load the sst2 dataset\n",
    "'''\n",
    "\n",
    "import os\n",
    "import pickle\n",
    "dataset_name =  'sst2'\n",
    "\n",
    "data_file_path = '%s/dataset/%s_dataset.pkl'%(os.getcwd(), dataset_name)\n",
    "with open(data_file_path, \"rb\") as f:\n",
    "    sst2 = pickle.load(f)\n",
    "\n",
    "sst2_train = sst2['train']\n",
    "sst2_train_sentence = sst2_train['sentence']\n",
    "sst2_train_sentence[:10]"
   ]
  },
  {
   "cell_type": "code",
   "execution_count": 7,
   "metadata": {},
   "outputs": [],
   "source": [
    "'''\n",
    "Load the VQ model and the total embeddings\n",
    "'''\n",
    "\n",
    "import pickle\n",
    "with open('cache_VQ_model/cache_for_sst2_renewal/roberta-large_sst2_2e-05_1024_42.pkl', 'rb') as f:\n",
    "    vq_model = pickle.load(f).to('cuda')    \n",
    "with open(f'{os.getcwd()}/model_file/roberta_large_embeddings.pkl', 'rb') as f:\n",
    "    total_embeddings = pickle.load(f)\n"
   ]
  },
  {
   "cell_type": "code",
   "execution_count": 9,
   "metadata": {},
   "outputs": [],
   "source": [
    "'''\n",
    "Function to convert embedding to token\n",
    "\n",
    "\n",
    "total_embeddings : The total embeddings of the roberta-large\n",
    "embedded_outputs : The output of the model\n",
    "inputs_token : To check the original token decoding\n",
    "'''\n",
    "\n",
    "from sklearn.metrics.pairwise import cosine_similarity\n",
    "\n",
    "def get_embedding_to_token(total_embeddings, embedded_outputs, inputs_token):\n",
    "    for i in range(len(embedded_outputs)):\n",
    "        word_embedding = embedded_outputs[i].detach()\n",
    "        print(tokenizer.decode(inputs_token['input_ids'][i]))\n",
    "        similarity = cosine_similarity(total_embeddings, word_embedding)\n",
    "        for i in range(similarity.shape[1]):\n",
    "            print(tokenizer.decode(similarity[:,i].argmax()), end = ' ')\n",
    "        print('\\n')\n"
   ]
  },
  {
   "cell_type": "code",
   "execution_count": 10,
   "metadata": {},
   "outputs": [
    {
     "data": {
      "text/plain": [
       "20"
      ]
     },
     "execution_count": 10,
     "metadata": {},
     "output_type": "execute_result"
    }
   ],
   "source": [
    "'''\n",
    "Set the datasets\n",
    "\n",
    "\n",
    "sentences_data : The sentences to be converted\n",
    "outputs_embedd : The output of the model\n",
    "'''\n",
    "total_embeddings = total_embeddings.detach()\n",
    "sentences_data = sst2_train_sentence[:20]\n",
    "outputs_embedd = []\n",
    "\n",
    "inputs_token = tokenizer(sentences_data, \n",
    "                    add_special_tokens=True, \n",
    "                    padding= 'max_length',  # 'max_length'\n",
    "                    max_length= 128,  # args.max_seq_length\n",
    "                    truncation=True,\n",
    "                    return_attention_mask=True, \n",
    "                    return_tensors='pt')\n",
    "\n",
    "with torch.no_grad():\n",
    "    for i in range(len(sentences_data)):\n",
    "        temp = model.roberta.embeddings.word_embeddings(inputs_token['input_ids'][i])\n",
    "        outputs_embedd.append(temp)\n",
    "len(outputs_embedd)"
   ]
  },
  {
   "cell_type": "code",
   "execution_count": 11,
   "metadata": {},
   "outputs": [
    {
     "name": "stdout",
     "output_type": "stream",
     "text": [
      "<s>hide new secretions from the parental units </s><pad><pad><pad><pad><pad><pad><pad><pad><pad><pad><pad><pad><pad><pad><pad><pad><pad><pad><pad><pad><pad><pad><pad><pad><pad><pad><pad><pad><pad><pad><pad><pad><pad><pad><pad><pad><pad><pad><pad><pad><pad><pad><pad><pad><pad><pad><pad><pad><pad><pad><pad><pad><pad><pad><pad><pad><pad><pad><pad><pad><pad><pad><pad><pad><pad><pad><pad><pad><pad><pad><pad><pad><pad><pad><pad><pad><pad><pad><pad><pad><pad><pad><pad><pad><pad><pad><pad><pad><pad><pad><pad><pad><pad><pad><pad><pad><pad><pad><pad><pad><pad><pad><pad><pad><pad><pad><pad><pad><pad><pad><pad><pad><pad><pad><pad><pad><pad>\n",
      "<s> hide  new  secret ions  from  the  parental  units   </s> <pad> <pad> <pad> <pad> <pad> <pad> <pad> <pad> <pad> <pad> <pad> <pad> <pad> <pad> <pad> <pad> <pad> <pad> <pad> <pad> <pad> <pad> <pad> <pad> <pad> <pad> <pad> <pad> <pad> <pad> <pad> <pad> <pad> <pad> <pad> <pad> <pad> <pad> <pad> <pad> <pad> <pad> <pad> <pad> <pad> <pad> <pad> <pad> <pad> <pad> <pad> <pad> <pad> <pad> <pad> <pad> <pad> <pad> <pad> <pad> <pad> <pad> <pad> <pad> <pad> <pad> <pad> <pad> <pad> <pad> <pad> <pad> <pad> <pad> <pad> <pad> <pad> <pad> <pad> <pad> <pad> <pad> <pad> <pad> <pad> <pad> <pad> <pad> <pad> <pad> <pad> <pad> <pad> <pad> <pad> <pad> <pad> <pad> <pad> <pad> <pad> <pad> <pad> <pad> <pad> <pad> <pad> <pad> <pad> <pad> <pad> <pad> <pad> <pad> <pad> <pad> <pad> \n",
      "\n",
      "<s>contains no wit, only labored gags </s><pad><pad><pad><pad><pad><pad><pad><pad><pad><pad><pad><pad><pad><pad><pad><pad><pad><pad><pad><pad><pad><pad><pad><pad><pad><pad><pad><pad><pad><pad><pad><pad><pad><pad><pad><pad><pad><pad><pad><pad><pad><pad><pad><pad><pad><pad><pad><pad><pad><pad><pad><pad><pad><pad><pad><pad><pad><pad><pad><pad><pad><pad><pad><pad><pad><pad><pad><pad><pad><pad><pad><pad><pad><pad><pad><pad><pad><pad><pad><pad><pad><pad><pad><pad><pad><pad><pad><pad><pad><pad><pad><pad><pad><pad><pad><pad><pad><pad><pad><pad><pad><pad><pad><pad><pad><pad><pad><pad><pad><pad><pad><pad><pad><pad><pad>\n",
      "<s> cont ains  no  wit ,  only  lab ored  g ags   </s> <pad> <pad> <pad> <pad> <pad> <pad> <pad> <pad> <pad> <pad> <pad> <pad> <pad> <pad> <pad> <pad> <pad> <pad> <pad> <pad> <pad> <pad> <pad> <pad> <pad> <pad> <pad> <pad> <pad> <pad> <pad> <pad> <pad> <pad> <pad> <pad> <pad> <pad> <pad> <pad> <pad> <pad> <pad> <pad> <pad> <pad> <pad> <pad> <pad> <pad> <pad> <pad> <pad> <pad> <pad> <pad> <pad> <pad> <pad> <pad> <pad> <pad> <pad> <pad> <pad> <pad> <pad> <pad> <pad> <pad> <pad> <pad> <pad> <pad> <pad> <pad> <pad> <pad> <pad> <pad> <pad> <pad> <pad> <pad> <pad> <pad> <pad> <pad> <pad> <pad> <pad> <pad> <pad> <pad> <pad> <pad> <pad> <pad> <pad> <pad> <pad> <pad> <pad> <pad> <pad> <pad> <pad> <pad> <pad> <pad> <pad> <pad> <pad> <pad> <pad> \n",
      "\n",
      "<s>that loves its characters and communicates something rather beautiful about human nature </s><pad><pad><pad><pad><pad><pad><pad><pad><pad><pad><pad><pad><pad><pad><pad><pad><pad><pad><pad><pad><pad><pad><pad><pad><pad><pad><pad><pad><pad><pad><pad><pad><pad><pad><pad><pad><pad><pad><pad><pad><pad><pad><pad><pad><pad><pad><pad><pad><pad><pad><pad><pad><pad><pad><pad><pad><pad><pad><pad><pad><pad><pad><pad><pad><pad><pad><pad><pad><pad><pad><pad><pad><pad><pad><pad><pad><pad><pad><pad><pad><pad><pad><pad><pad><pad><pad><pad><pad><pad><pad><pad><pad><pad><pad><pad><pad><pad><pad><pad><pad><pad><pad><pad><pad><pad><pad><pad><pad><pad><pad><pad><pad><pad>\n",
      "<s> that  loves  its  characters  and  communicates  something  rather  beautiful  about  human  nature   </s> <pad> <pad> <pad> <pad> <pad> <pad> <pad> <pad> <pad> <pad> <pad> <pad> <pad> <pad> <pad> <pad> <pad> <pad> <pad> <pad> <pad> <pad> <pad> <pad> <pad> <pad> <pad> <pad> <pad> <pad> <pad> <pad> <pad> <pad> <pad> <pad> <pad> <pad> <pad> <pad> <pad> <pad> <pad> <pad> <pad> <pad> <pad> <pad> <pad> <pad> <pad> <pad> <pad> <pad> <pad> <pad> <pad> <pad> <pad> <pad> <pad> <pad> <pad> <pad> <pad> <pad> <pad> <pad> <pad> <pad> <pad> <pad> <pad> <pad> <pad> <pad> <pad> <pad> <pad> <pad> <pad> <pad> <pad> <pad> <pad> <pad> <pad> <pad> <pad> <pad> <pad> <pad> <pad> <pad> <pad> <pad> <pad> <pad> <pad> <pad> <pad> <pad> <pad> <pad> <pad> <pad> <pad> <pad> <pad> <pad> <pad> <pad> <pad> \n",
      "\n",
      "<s>remains utterly satisfied to remain the same throughout </s><pad><pad><pad><pad><pad><pad><pad><pad><pad><pad><pad><pad><pad><pad><pad><pad><pad><pad><pad><pad><pad><pad><pad><pad><pad><pad><pad><pad><pad><pad><pad><pad><pad><pad><pad><pad><pad><pad><pad><pad><pad><pad><pad><pad><pad><pad><pad><pad><pad><pad><pad><pad><pad><pad><pad><pad><pad><pad><pad><pad><pad><pad><pad><pad><pad><pad><pad><pad><pad><pad><pad><pad><pad><pad><pad><pad><pad><pad><pad><pad><pad><pad><pad><pad><pad><pad><pad><pad><pad><pad><pad><pad><pad><pad><pad><pad><pad><pad><pad><pad><pad><pad><pad><pad><pad><pad><pad><pad><pad><pad><pad><pad><pad><pad><pad><pad>\n",
      "<s> rem ains  utterly  satisfied  to  remain  the  same  throughout   </s> <pad> <pad> <pad> <pad> <pad> <pad> <pad> <pad> <pad> <pad> <pad> <pad> <pad> <pad> <pad> <pad> <pad> <pad> <pad> <pad> <pad> <pad> <pad> <pad> <pad> <pad> <pad> <pad> <pad> <pad> <pad> <pad> <pad> <pad> <pad> <pad> <pad> <pad> <pad> <pad> <pad> <pad> <pad> <pad> <pad> <pad> <pad> <pad> <pad> <pad> <pad> <pad> <pad> <pad> <pad> <pad> <pad> <pad> <pad> <pad> <pad> <pad> <pad> <pad> <pad> <pad> <pad> <pad> <pad> <pad> <pad> <pad> <pad> <pad> <pad> <pad> <pad> <pad> <pad> <pad> <pad> <pad> <pad> <pad> <pad> <pad> <pad> <pad> <pad> <pad> <pad> <pad> <pad> <pad> <pad> <pad> <pad> <pad> <pad> <pad> <pad> <pad> <pad> <pad> <pad> <pad> <pad> <pad> <pad> <pad> <pad> <pad> <pad> <pad> <pad> <pad> \n",
      "\n",
      "<s>on the worst revenge-of-the-nerds clichés the filmmakers could dredge up </s><pad><pad><pad><pad><pad><pad><pad><pad><pad><pad><pad><pad><pad><pad><pad><pad><pad><pad><pad><pad><pad><pad><pad><pad><pad><pad><pad><pad><pad><pad><pad><pad><pad><pad><pad><pad><pad><pad><pad><pad><pad><pad><pad><pad><pad><pad><pad><pad><pad><pad><pad><pad><pad><pad><pad><pad><pad><pad><pad><pad><pad><pad><pad><pad><pad><pad><pad><pad><pad><pad><pad><pad><pad><pad><pad><pad><pad><pad><pad><pad><pad><pad><pad><pad><pad><pad><pad><pad><pad><pad><pad><pad><pad><pad><pad><pad><pad><pad><pad><pad><pad><pad><pad><pad><pad><pad>\n",
      "<s> on  the  worst  revenge - of - the - ner ds  clich és  the  filmmakers  could  dred ge  up   </s> <pad> <pad> <pad> <pad> <pad> <pad> <pad> <pad> <pad> <pad> <pad> <pad> <pad> <pad> <pad> <pad> <pad> <pad> <pad> <pad> <pad> <pad> <pad> <pad> <pad> <pad> <pad> <pad> <pad> <pad> <pad> <pad> <pad> <pad> <pad> <pad> <pad> <pad> <pad> <pad> <pad> <pad> <pad> <pad> <pad> <pad> <pad> <pad> <pad> <pad> <pad> <pad> <pad> <pad> <pad> <pad> <pad> <pad> <pad> <pad> <pad> <pad> <pad> <pad> <pad> <pad> <pad> <pad> <pad> <pad> <pad> <pad> <pad> <pad> <pad> <pad> <pad> <pad> <pad> <pad> <pad> <pad> <pad> <pad> <pad> <pad> <pad> <pad> <pad> <pad> <pad> <pad> <pad> <pad> <pad> <pad> <pad> <pad> <pad> <pad> <pad> <pad> <pad> <pad> <pad> <pad> \n",
      "\n",
      "<s>that's far too tragic to merit such superficial treatment </s><pad><pad><pad><pad><pad><pad><pad><pad><pad><pad><pad><pad><pad><pad><pad><pad><pad><pad><pad><pad><pad><pad><pad><pad><pad><pad><pad><pad><pad><pad><pad><pad><pad><pad><pad><pad><pad><pad><pad><pad><pad><pad><pad><pad><pad><pad><pad><pad><pad><pad><pad><pad><pad><pad><pad><pad><pad><pad><pad><pad><pad><pad><pad><pad><pad><pad><pad><pad><pad><pad><pad><pad><pad><pad><pad><pad><pad><pad><pad><pad><pad><pad><pad><pad><pad><pad><pad><pad><pad><pad><pad><pad><pad><pad><pad><pad><pad><pad><pad><pad><pad><pad><pad><pad><pad><pad><pad><pad><pad><pad><pad><pad><pad><pad>\n",
      "<s> that  ' s  far  too  tragic  to  merit  such  superficial  treatment   </s> <pad> <pad> <pad> <pad> <pad> <pad> <pad> <pad> <pad> <pad> <pad> <pad> <pad> <pad> <pad> <pad> <pad> <pad> <pad> <pad> <pad> <pad> <pad> <pad> <pad> <pad> <pad> <pad> <pad> <pad> <pad> <pad> <pad> <pad> <pad> <pad> <pad> <pad> <pad> <pad> <pad> <pad> <pad> <pad> <pad> <pad> <pad> <pad> <pad> <pad> <pad> <pad> <pad> <pad> <pad> <pad> <pad> <pad> <pad> <pad> <pad> <pad> <pad> <pad> <pad> <pad> <pad> <pad> <pad> <pad> <pad> <pad> <pad> <pad> <pad> <pad> <pad> <pad> <pad> <pad> <pad> <pad> <pad> <pad> <pad> <pad> <pad> <pad> <pad> <pad> <pad> <pad> <pad> <pad> <pad> <pad> <pad> <pad> <pad> <pad> <pad> <pad> <pad> <pad> <pad> <pad> <pad> <pad> <pad> <pad> <pad> <pad> <pad> <pad> \n",
      "\n",
      "<s>demonstrates that the director of such hollywood blockbusters as patriot games can still turn out a small, personal film with an emotional wallop. </s><pad><pad><pad><pad><pad><pad><pad><pad><pad><pad><pad><pad><pad><pad><pad><pad><pad><pad><pad><pad><pad><pad><pad><pad><pad><pad><pad><pad><pad><pad><pad><pad><pad><pad><pad><pad><pad><pad><pad><pad><pad><pad><pad><pad><pad><pad><pad><pad><pad><pad><pad><pad><pad><pad><pad><pad><pad><pad><pad><pad><pad><pad><pad><pad><pad><pad><pad><pad><pad><pad><pad><pad><pad><pad><pad><pad><pad><pad><pad><pad><pad><pad><pad><pad><pad><pad><pad><pad><pad><pad><pad><pad><pad><pad><pad>\n",
      "<s> demon str ates  that  the  director  of  such  h ollywood  block busters  as  patriot  games  can  still  turn  out  a  small ,  personal  film  with  an  emotional  wall op .   </s> <pad> <pad> <pad> <pad> <pad> <pad> <pad> <pad> <pad> <pad> <pad> <pad> <pad> <pad> <pad> <pad> <pad> <pad> <pad> <pad> <pad> <pad> <pad> <pad> <pad> <pad> <pad> <pad> <pad> <pad> <pad> <pad> <pad> <pad> <pad> <pad> <pad> <pad> <pad> <pad> <pad> <pad> <pad> <pad> <pad> <pad> <pad> <pad> <pad> <pad> <pad> <pad> <pad> <pad> <pad> <pad> <pad> <pad> <pad> <pad> <pad> <pad> <pad> <pad> <pad> <pad> <pad> <pad> <pad> <pad> <pad> <pad> <pad> <pad> <pad> <pad> <pad> <pad> <pad> <pad> <pad> <pad> <pad> <pad> <pad> <pad> <pad> <pad> <pad> <pad> <pad> <pad> <pad> <pad> <pad> \n",
      "\n",
      "<s>of saucy </s><pad><pad><pad><pad><pad><pad><pad><pad><pad><pad><pad><pad><pad><pad><pad><pad><pad><pad><pad><pad><pad><pad><pad><pad><pad><pad><pad><pad><pad><pad><pad><pad><pad><pad><pad><pad><pad><pad><pad><pad><pad><pad><pad><pad><pad><pad><pad><pad><pad><pad><pad><pad><pad><pad><pad><pad><pad><pad><pad><pad><pad><pad><pad><pad><pad><pad><pad><pad><pad><pad><pad><pad><pad><pad><pad><pad><pad><pad><pad><pad><pad><pad><pad><pad><pad><pad><pad><pad><pad><pad><pad><pad><pad><pad><pad><pad><pad><pad><pad><pad><pad><pad><pad><pad><pad><pad><pad><pad><pad><pad><pad><pad><pad><pad><pad><pad><pad><pad><pad><pad><pad>\n",
      "<s> of  sa u cy   </s> <pad> <pad> <pad> <pad> <pad> <pad> <pad> <pad> <pad> <pad> <pad> <pad> <pad> <pad> <pad> <pad> <pad> <pad> <pad> <pad> <pad> <pad> <pad> <pad> <pad> <pad> <pad> <pad> <pad> <pad> <pad> <pad> <pad> <pad> <pad> <pad> <pad> <pad> <pad> <pad> <pad> <pad> <pad> <pad> <pad> <pad> <pad> <pad> <pad> <pad> <pad> <pad> <pad> <pad> <pad> <pad> <pad> <pad> <pad> <pad> <pad> <pad> <pad> <pad> <pad> <pad> <pad> <pad> <pad> <pad> <pad> <pad> <pad> <pad> <pad> <pad> <pad> <pad> <pad> <pad> <pad> <pad> <pad> <pad> <pad> <pad> <pad> <pad> <pad> <pad> <pad> <pad> <pad> <pad> <pad> <pad> <pad> <pad> <pad> <pad> <pad> <pad> <pad> <pad> <pad> <pad> <pad> <pad> <pad> <pad> <pad> <pad> <pad> <pad> <pad> <pad> <pad> <pad> <pad> <pad> <pad> \n",
      "\n",
      "<s>a depressed fifteen-year-old's suicidal poetry </s><pad><pad><pad><pad><pad><pad><pad><pad><pad><pad><pad><pad><pad><pad><pad><pad><pad><pad><pad><pad><pad><pad><pad><pad><pad><pad><pad><pad><pad><pad><pad><pad><pad><pad><pad><pad><pad><pad><pad><pad><pad><pad><pad><pad><pad><pad><pad><pad><pad><pad><pad><pad><pad><pad><pad><pad><pad><pad><pad><pad><pad><pad><pad><pad><pad><pad><pad><pad><pad><pad><pad><pad><pad><pad><pad><pad><pad><pad><pad><pad><pad><pad><pad><pad><pad><pad><pad><pad><pad><pad><pad><pad><pad><pad><pad><pad><pad><pad><pad><pad><pad><pad><pad><pad><pad><pad><pad><pad><pad><pad><pad><pad><pad><pad>\n",
      "<s> a  depressed  fifteen - year - old  ' s  suicidal  poetry   </s> <pad> <pad> <pad> <pad> <pad> <pad> <pad> <pad> <pad> <pad> <pad> <pad> <pad> <pad> <pad> <pad> <pad> <pad> <pad> <pad> <pad> <pad> <pad> <pad> <pad> <pad> <pad> <pad> <pad> <pad> <pad> <pad> <pad> <pad> <pad> <pad> <pad> <pad> <pad> <pad> <pad> <pad> <pad> <pad> <pad> <pad> <pad> <pad> <pad> <pad> <pad> <pad> <pad> <pad> <pad> <pad> <pad> <pad> <pad> <pad> <pad> <pad> <pad> <pad> <pad> <pad> <pad> <pad> <pad> <pad> <pad> <pad> <pad> <pad> <pad> <pad> <pad> <pad> <pad> <pad> <pad> <pad> <pad> <pad> <pad> <pad> <pad> <pad> <pad> <pad> <pad> <pad> <pad> <pad> <pad> <pad> <pad> <pad> <pad> <pad> <pad> <pad> <pad> <pad> <pad> <pad> <pad> <pad> <pad> <pad> <pad> <pad> <pad> <pad> \n",
      "\n",
      "<s>are more deeply thought through than in most ` right-thinking'films </s><pad><pad><pad><pad><pad><pad><pad><pad><pad><pad><pad><pad><pad><pad><pad><pad><pad><pad><pad><pad><pad><pad><pad><pad><pad><pad><pad><pad><pad><pad><pad><pad><pad><pad><pad><pad><pad><pad><pad><pad><pad><pad><pad><pad><pad><pad><pad><pad><pad><pad><pad><pad><pad><pad><pad><pad><pad><pad><pad><pad><pad><pad><pad><pad><pad><pad><pad><pad><pad><pad><pad><pad><pad><pad><pad><pad><pad><pad><pad><pad><pad><pad><pad><pad><pad><pad><pad><pad><pad><pad><pad><pad><pad><pad><pad><pad><pad><pad><pad><pad><pad><pad><pad><pad><pad><pad><pad><pad><pad><pad><pad>\n",
      "<s> are  more  deeply  thought  through  than  in  most  `  right - thinking  '  films   </s> <pad> <pad> <pad> <pad> <pad> <pad> <pad> <pad> <pad> <pad> <pad> <pad> <pad> <pad> <pad> <pad> <pad> <pad> <pad> <pad> <pad> <pad> <pad> <pad> <pad> <pad> <pad> <pad> <pad> <pad> <pad> <pad> <pad> <pad> <pad> <pad> <pad> <pad> <pad> <pad> <pad> <pad> <pad> <pad> <pad> <pad> <pad> <pad> <pad> <pad> <pad> <pad> <pad> <pad> <pad> <pad> <pad> <pad> <pad> <pad> <pad> <pad> <pad> <pad> <pad> <pad> <pad> <pad> <pad> <pad> <pad> <pad> <pad> <pad> <pad> <pad> <pad> <pad> <pad> <pad> <pad> <pad> <pad> <pad> <pad> <pad> <pad> <pad> <pad> <pad> <pad> <pad> <pad> <pad> <pad> <pad> <pad> <pad> <pad> <pad> <pad> <pad> <pad> <pad> <pad> <pad> <pad> <pad> <pad> <pad> <pad> \n",
      "\n",
      "<s>goes to absurd lengths </s><pad><pad><pad><pad><pad><pad><pad><pad><pad><pad><pad><pad><pad><pad><pad><pad><pad><pad><pad><pad><pad><pad><pad><pad><pad><pad><pad><pad><pad><pad><pad><pad><pad><pad><pad><pad><pad><pad><pad><pad><pad><pad><pad><pad><pad><pad><pad><pad><pad><pad><pad><pad><pad><pad><pad><pad><pad><pad><pad><pad><pad><pad><pad><pad><pad><pad><pad><pad><pad><pad><pad><pad><pad><pad><pad><pad><pad><pad><pad><pad><pad><pad><pad><pad><pad><pad><pad><pad><pad><pad><pad><pad><pad><pad><pad><pad><pad><pad><pad><pad><pad><pad><pad><pad><pad><pad><pad><pad><pad><pad><pad><pad><pad><pad><pad><pad><pad><pad><pad><pad>\n",
      "<s> go es  to  absurd  lengths   </s> <pad> <pad> <pad> <pad> <pad> <pad> <pad> <pad> <pad> <pad> <pad> <pad> <pad> <pad> <pad> <pad> <pad> <pad> <pad> <pad> <pad> <pad> <pad> <pad> <pad> <pad> <pad> <pad> <pad> <pad> <pad> <pad> <pad> <pad> <pad> <pad> <pad> <pad> <pad> <pad> <pad> <pad> <pad> <pad> <pad> <pad> <pad> <pad> <pad> <pad> <pad> <pad> <pad> <pad> <pad> <pad> <pad> <pad> <pad> <pad> <pad> <pad> <pad> <pad> <pad> <pad> <pad> <pad> <pad> <pad> <pad> <pad> <pad> <pad> <pad> <pad> <pad> <pad> <pad> <pad> <pad> <pad> <pad> <pad> <pad> <pad> <pad> <pad> <pad> <pad> <pad> <pad> <pad> <pad> <pad> <pad> <pad> <pad> <pad> <pad> <pad> <pad> <pad> <pad> <pad> <pad> <pad> <pad> <pad> <pad> <pad> <pad> <pad> <pad> <pad> <pad> <pad> <pad> <pad> <pad> \n",
      "\n",
      "<s>for those moviegoers who complain that ` they don't make movies like they used to anymore </s><pad><pad><pad><pad><pad><pad><pad><pad><pad><pad><pad><pad><pad><pad><pad><pad><pad><pad><pad><pad><pad><pad><pad><pad><pad><pad><pad><pad><pad><pad><pad><pad><pad><pad><pad><pad><pad><pad><pad><pad><pad><pad><pad><pad><pad><pad><pad><pad><pad><pad><pad><pad><pad><pad><pad><pad><pad><pad><pad><pad><pad><pad><pad><pad><pad><pad><pad><pad><pad><pad><pad><pad><pad><pad><pad><pad><pad><pad><pad><pad><pad><pad><pad><pad><pad><pad><pad><pad><pad><pad><pad><pad><pad><pad><pad><pad><pad><pad><pad><pad><pad><pad><pad><pad><pad><pad>\n",
      "<s> for  those  movie goers  who  complain  that  `  they  do  n 't  make  movies  like  they  used  to  anymore   </s> <pad> <pad> <pad> <pad> <pad> <pad> <pad> <pad> <pad> <pad> <pad> <pad> <pad> <pad> <pad> <pad> <pad> <pad> <pad> <pad> <pad> <pad> <pad> <pad> <pad> <pad> <pad> <pad> <pad> <pad> <pad> <pad> <pad> <pad> <pad> <pad> <pad> <pad> <pad> <pad> <pad> <pad> <pad> <pad> <pad> <pad> <pad> <pad> <pad> <pad> <pad> <pad> <pad> <pad> <pad> <pad> <pad> <pad> <pad> <pad> <pad> <pad> <pad> <pad> <pad> <pad> <pad> <pad> <pad> <pad> <pad> <pad> <pad> <pad> <pad> <pad> <pad> <pad> <pad> <pad> <pad> <pad> <pad> <pad> <pad> <pad> <pad> <pad> <pad> <pad> <pad> <pad> <pad> <pad> <pad> <pad> <pad> <pad> <pad> <pad> <pad> <pad> <pad> <pad> <pad> <pad> \n",
      "\n",
      "<s>the part where nothing's happening, </s><pad><pad><pad><pad><pad><pad><pad><pad><pad><pad><pad><pad><pad><pad><pad><pad><pad><pad><pad><pad><pad><pad><pad><pad><pad><pad><pad><pad><pad><pad><pad><pad><pad><pad><pad><pad><pad><pad><pad><pad><pad><pad><pad><pad><pad><pad><pad><pad><pad><pad><pad><pad><pad><pad><pad><pad><pad><pad><pad><pad><pad><pad><pad><pad><pad><pad><pad><pad><pad><pad><pad><pad><pad><pad><pad><pad><pad><pad><pad><pad><pad><pad><pad><pad><pad><pad><pad><pad><pad><pad><pad><pad><pad><pad><pad><pad><pad><pad><pad><pad><pad><pad><pad><pad><pad><pad><pad><pad><pad><pad><pad><pad><pad><pad><pad><pad><pad>\n",
      "<s> the  part  where  nothing  ' s  happening ,   </s> <pad> <pad> <pad> <pad> <pad> <pad> <pad> <pad> <pad> <pad> <pad> <pad> <pad> <pad> <pad> <pad> <pad> <pad> <pad> <pad> <pad> <pad> <pad> <pad> <pad> <pad> <pad> <pad> <pad> <pad> <pad> <pad> <pad> <pad> <pad> <pad> <pad> <pad> <pad> <pad> <pad> <pad> <pad> <pad> <pad> <pad> <pad> <pad> <pad> <pad> <pad> <pad> <pad> <pad> <pad> <pad> <pad> <pad> <pad> <pad> <pad> <pad> <pad> <pad> <pad> <pad> <pad> <pad> <pad> <pad> <pad> <pad> <pad> <pad> <pad> <pad> <pad> <pad> <pad> <pad> <pad> <pad> <pad> <pad> <pad> <pad> <pad> <pad> <pad> <pad> <pad> <pad> <pad> <pad> <pad> <pad> <pad> <pad> <pad> <pad> <pad> <pad> <pad> <pad> <pad> <pad> <pad> <pad> <pad> <pad> <pad> <pad> <pad> <pad> <pad> <pad> <pad> \n",
      "\n",
      "<s>saw how bad this movie was </s><pad><pad><pad><pad><pad><pad><pad><pad><pad><pad><pad><pad><pad><pad><pad><pad><pad><pad><pad><pad><pad><pad><pad><pad><pad><pad><pad><pad><pad><pad><pad><pad><pad><pad><pad><pad><pad><pad><pad><pad><pad><pad><pad><pad><pad><pad><pad><pad><pad><pad><pad><pad><pad><pad><pad><pad><pad><pad><pad><pad><pad><pad><pad><pad><pad><pad><pad><pad><pad><pad><pad><pad><pad><pad><pad><pad><pad><pad><pad><pad><pad><pad><pad><pad><pad><pad><pad><pad><pad><pad><pad><pad><pad><pad><pad><pad><pad><pad><pad><pad><pad><pad><pad><pad><pad><pad><pad><pad><pad><pad><pad><pad><pad><pad><pad><pad><pad><pad><pad>\n",
      "<s> saw  how  bad  this  movie  was   </s> <pad> <pad> <pad> <pad> <pad> <pad> <pad> <pad> <pad> <pad> <pad> <pad> <pad> <pad> <pad> <pad> <pad> <pad> <pad> <pad> <pad> <pad> <pad> <pad> <pad> <pad> <pad> <pad> <pad> <pad> <pad> <pad> <pad> <pad> <pad> <pad> <pad> <pad> <pad> <pad> <pad> <pad> <pad> <pad> <pad> <pad> <pad> <pad> <pad> <pad> <pad> <pad> <pad> <pad> <pad> <pad> <pad> <pad> <pad> <pad> <pad> <pad> <pad> <pad> <pad> <pad> <pad> <pad> <pad> <pad> <pad> <pad> <pad> <pad> <pad> <pad> <pad> <pad> <pad> <pad> <pad> <pad> <pad> <pad> <pad> <pad> <pad> <pad> <pad> <pad> <pad> <pad> <pad> <pad> <pad> <pad> <pad> <pad> <pad> <pad> <pad> <pad> <pad> <pad> <pad> <pad> <pad> <pad> <pad> <pad> <pad> <pad> <pad> <pad> <pad> <pad> <pad> <pad> <pad> \n",
      "\n",
      "<s>lend some dignity to a dumb story </s><pad><pad><pad><pad><pad><pad><pad><pad><pad><pad><pad><pad><pad><pad><pad><pad><pad><pad><pad><pad><pad><pad><pad><pad><pad><pad><pad><pad><pad><pad><pad><pad><pad><pad><pad><pad><pad><pad><pad><pad><pad><pad><pad><pad><pad><pad><pad><pad><pad><pad><pad><pad><pad><pad><pad><pad><pad><pad><pad><pad><pad><pad><pad><pad><pad><pad><pad><pad><pad><pad><pad><pad><pad><pad><pad><pad><pad><pad><pad><pad><pad><pad><pad><pad><pad><pad><pad><pad><pad><pad><pad><pad><pad><pad><pad><pad><pad><pad><pad><pad><pad><pad><pad><pad><pad><pad><pad><pad><pad><pad><pad><pad><pad><pad><pad><pad><pad>\n",
      "<s> l end  some  dignity  to  a  dumb  story   </s> <pad> <pad> <pad> <pad> <pad> <pad> <pad> <pad> <pad> <pad> <pad> <pad> <pad> <pad> <pad> <pad> <pad> <pad> <pad> <pad> <pad> <pad> <pad> <pad> <pad> <pad> <pad> <pad> <pad> <pad> <pad> <pad> <pad> <pad> <pad> <pad> <pad> <pad> <pad> <pad> <pad> <pad> <pad> <pad> <pad> <pad> <pad> <pad> <pad> <pad> <pad> <pad> <pad> <pad> <pad> <pad> <pad> <pad> <pad> <pad> <pad> <pad> <pad> <pad> <pad> <pad> <pad> <pad> <pad> <pad> <pad> <pad> <pad> <pad> <pad> <pad> <pad> <pad> <pad> <pad> <pad> <pad> <pad> <pad> <pad> <pad> <pad> <pad> <pad> <pad> <pad> <pad> <pad> <pad> <pad> <pad> <pad> <pad> <pad> <pad> <pad> <pad> <pad> <pad> <pad> <pad> <pad> <pad> <pad> <pad> <pad> <pad> <pad> <pad> <pad> <pad> <pad> \n",
      "\n",
      "<s>the greatest musicians </s><pad><pad><pad><pad><pad><pad><pad><pad><pad><pad><pad><pad><pad><pad><pad><pad><pad><pad><pad><pad><pad><pad><pad><pad><pad><pad><pad><pad><pad><pad><pad><pad><pad><pad><pad><pad><pad><pad><pad><pad><pad><pad><pad><pad><pad><pad><pad><pad><pad><pad><pad><pad><pad><pad><pad><pad><pad><pad><pad><pad><pad><pad><pad><pad><pad><pad><pad><pad><pad><pad><pad><pad><pad><pad><pad><pad><pad><pad><pad><pad><pad><pad><pad><pad><pad><pad><pad><pad><pad><pad><pad><pad><pad><pad><pad><pad><pad><pad><pad><pad><pad><pad><pad><pad><pad><pad><pad><pad><pad><pad><pad><pad><pad><pad><pad><pad><pad><pad><pad><pad><pad><pad>\n",
      "<s> the  greatest  musicians   </s> <pad> <pad> <pad> <pad> <pad> <pad> <pad> <pad> <pad> <pad> <pad> <pad> <pad> <pad> <pad> <pad> <pad> <pad> <pad> <pad> <pad> <pad> <pad> <pad> <pad> <pad> <pad> <pad> <pad> <pad> <pad> <pad> <pad> <pad> <pad> <pad> <pad> <pad> <pad> <pad> <pad> <pad> <pad> <pad> <pad> <pad> <pad> <pad> <pad> <pad> <pad> <pad> <pad> <pad> <pad> <pad> <pad> <pad> <pad> <pad> <pad> <pad> <pad> <pad> <pad> <pad> <pad> <pad> <pad> <pad> <pad> <pad> <pad> <pad> <pad> <pad> <pad> <pad> <pad> <pad> <pad> <pad> <pad> <pad> <pad> <pad> <pad> <pad> <pad> <pad> <pad> <pad> <pad> <pad> <pad> <pad> <pad> <pad> <pad> <pad> <pad> <pad> <pad> <pad> <pad> <pad> <pad> <pad> <pad> <pad> <pad> <pad> <pad> <pad> <pad> <pad> <pad> <pad> <pad> <pad> <pad> <pad> \n",
      "\n",
      "<s>cold movie </s><pad><pad><pad><pad><pad><pad><pad><pad><pad><pad><pad><pad><pad><pad><pad><pad><pad><pad><pad><pad><pad><pad><pad><pad><pad><pad><pad><pad><pad><pad><pad><pad><pad><pad><pad><pad><pad><pad><pad><pad><pad><pad><pad><pad><pad><pad><pad><pad><pad><pad><pad><pad><pad><pad><pad><pad><pad><pad><pad><pad><pad><pad><pad><pad><pad><pad><pad><pad><pad><pad><pad><pad><pad><pad><pad><pad><pad><pad><pad><pad><pad><pad><pad><pad><pad><pad><pad><pad><pad><pad><pad><pad><pad><pad><pad><pad><pad><pad><pad><pad><pad><pad><pad><pad><pad><pad><pad><pad><pad><pad><pad><pad><pad><pad><pad><pad><pad><pad><pad><pad><pad><pad><pad>\n",
      "<s> cold  movie   </s> <pad> <pad> <pad> <pad> <pad> <pad> <pad> <pad> <pad> <pad> <pad> <pad> <pad> <pad> <pad> <pad> <pad> <pad> <pad> <pad> <pad> <pad> <pad> <pad> <pad> <pad> <pad> <pad> <pad> <pad> <pad> <pad> <pad> <pad> <pad> <pad> <pad> <pad> <pad> <pad> <pad> <pad> <pad> <pad> <pad> <pad> <pad> <pad> <pad> <pad> <pad> <pad> <pad> <pad> <pad> <pad> <pad> <pad> <pad> <pad> <pad> <pad> <pad> <pad> <pad> <pad> <pad> <pad> <pad> <pad> <pad> <pad> <pad> <pad> <pad> <pad> <pad> <pad> <pad> <pad> <pad> <pad> <pad> <pad> <pad> <pad> <pad> <pad> <pad> <pad> <pad> <pad> <pad> <pad> <pad> <pad> <pad> <pad> <pad> <pad> <pad> <pad> <pad> <pad> <pad> <pad> <pad> <pad> <pad> <pad> <pad> <pad> <pad> <pad> <pad> <pad> <pad> <pad> <pad> <pad> <pad> <pad> <pad> \n",
      "\n",
      "<s>with his usual intelligence and subtlety </s><pad><pad><pad><pad><pad><pad><pad><pad><pad><pad><pad><pad><pad><pad><pad><pad><pad><pad><pad><pad><pad><pad><pad><pad><pad><pad><pad><pad><pad><pad><pad><pad><pad><pad><pad><pad><pad><pad><pad><pad><pad><pad><pad><pad><pad><pad><pad><pad><pad><pad><pad><pad><pad><pad><pad><pad><pad><pad><pad><pad><pad><pad><pad><pad><pad><pad><pad><pad><pad><pad><pad><pad><pad><pad><pad><pad><pad><pad><pad><pad><pad><pad><pad><pad><pad><pad><pad><pad><pad><pad><pad><pad><pad><pad><pad><pad><pad><pad><pad><pad><pad><pad><pad><pad><pad><pad><pad><pad><pad><pad><pad><pad><pad><pad><pad><pad><pad><pad>\n",
      "<s> with  his  usual  intelligence  and  subtle ty   </s> <pad> <pad> <pad> <pad> <pad> <pad> <pad> <pad> <pad> <pad> <pad> <pad> <pad> <pad> <pad> <pad> <pad> <pad> <pad> <pad> <pad> <pad> <pad> <pad> <pad> <pad> <pad> <pad> <pad> <pad> <pad> <pad> <pad> <pad> <pad> <pad> <pad> <pad> <pad> <pad> <pad> <pad> <pad> <pad> <pad> <pad> <pad> <pad> <pad> <pad> <pad> <pad> <pad> <pad> <pad> <pad> <pad> <pad> <pad> <pad> <pad> <pad> <pad> <pad> <pad> <pad> <pad> <pad> <pad> <pad> <pad> <pad> <pad> <pad> <pad> <pad> <pad> <pad> <pad> <pad> <pad> <pad> <pad> <pad> <pad> <pad> <pad> <pad> <pad> <pad> <pad> <pad> <pad> <pad> <pad> <pad> <pad> <pad> <pad> <pad> <pad> <pad> <pad> <pad> <pad> <pad> <pad> <pad> <pad> <pad> <pad> <pad> <pad> <pad> <pad> <pad> <pad> <pad> \n",
      "\n",
      "<s>redundant concept </s><pad><pad><pad><pad><pad><pad><pad><pad><pad><pad><pad><pad><pad><pad><pad><pad><pad><pad><pad><pad><pad><pad><pad><pad><pad><pad><pad><pad><pad><pad><pad><pad><pad><pad><pad><pad><pad><pad><pad><pad><pad><pad><pad><pad><pad><pad><pad><pad><pad><pad><pad><pad><pad><pad><pad><pad><pad><pad><pad><pad><pad><pad><pad><pad><pad><pad><pad><pad><pad><pad><pad><pad><pad><pad><pad><pad><pad><pad><pad><pad><pad><pad><pad><pad><pad><pad><pad><pad><pad><pad><pad><pad><pad><pad><pad><pad><pad><pad><pad><pad><pad><pad><pad><pad><pad><pad><pad><pad><pad><pad><pad><pad><pad><pad><pad><pad><pad><pad><pad><pad><pad>\n",
      "<s> red und ant  concept   </s> <pad> <pad> <pad> <pad> <pad> <pad> <pad> <pad> <pad> <pad> <pad> <pad> <pad> <pad> <pad> <pad> <pad> <pad> <pad> <pad> <pad> <pad> <pad> <pad> <pad> <pad> <pad> <pad> <pad> <pad> <pad> <pad> <pad> <pad> <pad> <pad> <pad> <pad> <pad> <pad> <pad> <pad> <pad> <pad> <pad> <pad> <pad> <pad> <pad> <pad> <pad> <pad> <pad> <pad> <pad> <pad> <pad> <pad> <pad> <pad> <pad> <pad> <pad> <pad> <pad> <pad> <pad> <pad> <pad> <pad> <pad> <pad> <pad> <pad> <pad> <pad> <pad> <pad> <pad> <pad> <pad> <pad> <pad> <pad> <pad> <pad> <pad> <pad> <pad> <pad> <pad> <pad> <pad> <pad> <pad> <pad> <pad> <pad> <pad> <pad> <pad> <pad> <pad> <pad> <pad> <pad> <pad> <pad> <pad> <pad> <pad> <pad> <pad> <pad> <pad> <pad> <pad> <pad> <pad> <pad> <pad> \n",
      "\n",
      "<s>swimming is above all about a young woman's face, and by casting an actress whose face projects that woman's doubts and yearnings, it succeeds. </s><pad><pad><pad><pad><pad><pad><pad><pad><pad><pad><pad><pad><pad><pad><pad><pad><pad><pad><pad><pad><pad><pad><pad><pad><pad><pad><pad><pad><pad><pad><pad><pad><pad><pad><pad><pad><pad><pad><pad><pad><pad><pad><pad><pad><pad><pad><pad><pad><pad><pad><pad><pad><pad><pad><pad><pad><pad><pad><pad><pad><pad><pad><pad><pad><pad><pad><pad><pad><pad><pad><pad><pad><pad><pad><pad><pad><pad><pad><pad><pad><pad><pad><pad><pad><pad><pad><pad><pad><pad><pad><pad><pad>\n",
      "<s> sw imming  is  above  all  about  a  young  woman  ' s  face ,  and  by  casting  an  actress  whose  face  projects  that  woman  ' s  doubts  and  year nings ,  it  succeeds .   </s> <pad> <pad> <pad> <pad> <pad> <pad> <pad> <pad> <pad> <pad> <pad> <pad> <pad> <pad> <pad> <pad> <pad> <pad> <pad> <pad> <pad> <pad> <pad> <pad> <pad> <pad> <pad> <pad> <pad> <pad> <pad> <pad> <pad> <pad> <pad> <pad> <pad> <pad> <pad> <pad> <pad> <pad> <pad> <pad> <pad> <pad> <pad> <pad> <pad> <pad> <pad> <pad> <pad> <pad> <pad> <pad> <pad> <pad> <pad> <pad> <pad> <pad> <pad> <pad> <pad> <pad> <pad> <pad> <pad> <pad> <pad> <pad> <pad> <pad> <pad> <pad> <pad> <pad> <pad> <pad> <pad> <pad> <pad> <pad> <pad> <pad> <pad> <pad> <pad> <pad> <pad> <pad> \n",
      "\n"
     ]
    }
   ],
   "source": [
    "'''\n",
    "Check the embedding to token worked well\n",
    "'''\n",
    "\n",
    "get_embedding_to_token(total_embeddings, outputs_embedd, inputs_token)"
   ]
  },
  {
   "cell_type": "markdown",
   "metadata": {},
   "source": [
    "### Analysis the data made by VQ_model"
   ]
  },
  {
   "cell_type": "code",
   "execution_count": 12,
   "metadata": {},
   "outputs": [
    {
     "name": "stderr",
     "output_type": "stream",
     "text": [
      "/opt/conda/lib/python3.7/site-packages/ipykernel_launcher.py:8: UserWarning: To copy construct from a tensor, it is recommended to use sourceTensor.clone().detach() or sourceTensor.clone().detach().requires_grad_(True), rather than torch.tensor(sourceTensor).\n",
      "  \n"
     ]
    }
   ],
   "source": [
    "'''\n",
    "VQ_Augmentation Input Data setting\n",
    "'''\n",
    "\n",
    "vq_input = outputs_embedd\n",
    "labels = sst2_train['label'][:len(vq_input)]\n",
    "\n",
    "# vq_input_ = [torch.tensor(i) for i in vq_input]\n",
    "labels_ = [torch.tensor(i) for i in labels]"
   ]
  },
  {
   "cell_type": "code",
   "execution_count": 13,
   "metadata": {},
   "outputs": [],
   "source": [
    "'''\n",
    "Process VQ_Augmentation \n",
    "outputs_vq : VQ_Augmentation output\n",
    "'''\n",
    "\n",
    "vq_model.eval()\n",
    "augmented_data = []\n",
    "outputs_vq = []\n",
    "for embs, label in zip(vq_input, labels_):\n",
    "    embs = embs.to(device = 'cuda:0')\n",
    "    label = label.to(device = 'cuda:0')\n",
    "    decoded_sentence = []\n",
    "    for j in range(embs.shape[0]):\n",
    "        text = embs[j,:].view(1,-1)\n",
    "        label = label.view(-1)\n",
    "        decoded_text = vq_model(text, label)[0]\n",
    "        decoded_sentence.append(decoded_text)\n",
    "        # break\n",
    "    augmented_data = torch.cat(decoded_sentence, dim=0)\n",
    "    outputs_vq.append(augmented_data)\n",
    "outputs_vq = torch.stack(outputs_vq, dim=0)\n",
    "# attention_mask = inputs_token['attention_mask']"
   ]
  },
  {
   "cell_type": "code",
   "execution_count": 14,
   "metadata": {},
   "outputs": [
    {
     "name": "stdout",
     "output_type": "stream",
     "text": [
      "<s>hide new secretions from the parental units </s><pad><pad><pad><pad><pad><pad><pad><pad><pad><pad><pad><pad><pad><pad><pad><pad><pad><pad><pad><pad><pad><pad><pad><pad><pad><pad><pad><pad><pad><pad><pad><pad><pad><pad><pad><pad><pad><pad><pad><pad><pad><pad><pad><pad><pad><pad><pad><pad><pad><pad><pad><pad><pad><pad><pad><pad><pad><pad><pad><pad><pad><pad><pad><pad><pad><pad><pad><pad><pad><pad><pad><pad><pad><pad><pad><pad><pad><pad><pad><pad><pad><pad><pad><pad><pad><pad><pad><pad><pad><pad><pad><pad><pad><pad><pad><pad><pad><pad><pad><pad><pad><pad><pad><pad><pad><pad><pad><pad><pad><pad><pad><pad><pad><pad><pad><pad><pad>\n",
      "<pad> <pad> <pad> <pad> <pad> <pad> <pad> <pad> <pad> <pad> <pad> <pad> <pad> <pad> <pad> <pad> <pad> <pad> <pad> <pad> <pad> <pad> <pad> <pad> <pad> <pad> <pad> <pad> <pad> <pad> <pad> <pad> <pad> <pad> <pad> <pad> <pad> <pad> <pad> <pad> <pad> <pad> <pad> <pad> <pad> <pad> <pad> <pad> <pad> <pad> <pad> <pad> <pad> <pad> <pad> <pad> <pad> <pad> <pad> <pad> <pad> <pad> <pad> <pad> <pad> <pad> <pad> <pad> <pad> <pad> <pad> <pad> <pad> <pad> <pad> <pad> <pad> <pad> <pad> <pad> <pad> <pad> <pad> <pad> <pad> <pad> <pad> <pad> <pad> <pad> <pad> <pad> <pad> <pad> <pad> <pad> <pad> <pad> <pad> <pad> <pad> <pad> <pad> <pad> <pad> <pad> <pad> <pad> <pad> <pad> <pad> <pad> <pad> <pad> <pad> <pad> <pad> <pad> <pad> <pad> <pad> <pad> <pad> <pad> <pad> <pad> <pad> <pad> \n",
      "\n",
      "<s>contains no wit, only labored gags </s><pad><pad><pad><pad><pad><pad><pad><pad><pad><pad><pad><pad><pad><pad><pad><pad><pad><pad><pad><pad><pad><pad><pad><pad><pad><pad><pad><pad><pad><pad><pad><pad><pad><pad><pad><pad><pad><pad><pad><pad><pad><pad><pad><pad><pad><pad><pad><pad><pad><pad><pad><pad><pad><pad><pad><pad><pad><pad><pad><pad><pad><pad><pad><pad><pad><pad><pad><pad><pad><pad><pad><pad><pad><pad><pad><pad><pad><pad><pad><pad><pad><pad><pad><pad><pad><pad><pad><pad><pad><pad><pad><pad><pad><pad><pad><pad><pad><pad><pad><pad><pad><pad><pad><pad><pad><pad><pad><pad><pad><pad><pad><pad><pad><pad><pad>\n",
      "<pad> <pad> <pad> <pad> <pad> <pad> <pad> <pad> <pad> <pad> <pad> <pad> <pad> <pad> <pad> <pad> <pad> <pad> <pad> <pad> <pad> <pad> <pad> <pad> <pad> <pad> <pad> <pad> <pad> <pad> <pad> <pad> <pad> <pad> <pad> <pad> <pad> <pad> <pad> <pad> <pad> <pad> <pad> <pad> <pad> <pad> <pad> <pad> <pad> <pad> <pad> <pad> <pad> <pad> <pad> <pad> <pad> <pad> <pad> <pad> <pad> <pad> <pad> <pad> <pad> <pad> <pad> <pad> <pad> <pad> <pad> <pad> <pad> <pad> <pad> <pad> <pad> <pad> <pad> <pad> <pad> <pad> <pad> <pad> <pad> <pad> <pad> <pad> <pad> <pad> <pad> <pad> <pad> <pad> <pad> <pad> <pad> <pad> <pad> <pad> <pad> <pad> <pad> <pad> <pad> <pad> <pad> <pad> <pad> <pad> <pad> <pad> <pad> <pad> <pad> <pad> <pad> <pad> <pad> <pad> <pad> <pad> <pad> <pad> <pad> <pad> <pad> <pad> \n",
      "\n",
      "<s>that loves its characters and communicates something rather beautiful about human nature </s><pad><pad><pad><pad><pad><pad><pad><pad><pad><pad><pad><pad><pad><pad><pad><pad><pad><pad><pad><pad><pad><pad><pad><pad><pad><pad><pad><pad><pad><pad><pad><pad><pad><pad><pad><pad><pad><pad><pad><pad><pad><pad><pad><pad><pad><pad><pad><pad><pad><pad><pad><pad><pad><pad><pad><pad><pad><pad><pad><pad><pad><pad><pad><pad><pad><pad><pad><pad><pad><pad><pad><pad><pad><pad><pad><pad><pad><pad><pad><pad><pad><pad><pad><pad><pad><pad><pad><pad><pad><pad><pad><pad><pad><pad><pad><pad><pad><pad><pad><pad><pad><pad><pad><pad><pad><pad><pad><pad><pad><pad><pad><pad><pad>\n",
      "<pad> <pad> <pad> <pad> <pad> <pad> <pad> <pad> <pad> <pad> <pad> <pad> <pad> <pad> <pad> <pad> <pad> <pad> <pad> <pad> <pad> <pad> <pad> <pad> <pad> <pad> <pad> <pad> <pad> <pad> <pad> <pad> <pad> <pad> <pad> <pad> <pad> <pad> <pad> <pad> <pad> <pad> <pad> <pad> <pad> <pad> <pad> <pad> <pad> <pad> <pad> <pad> <pad> <pad> <pad> <pad> <pad> <pad> <pad> <pad> <pad> <pad> <pad> <pad> <pad> <pad> <pad> <pad> <pad> <pad> <pad> <pad> <pad> <pad> <pad> <pad> <pad> <pad> <pad> <pad> <pad> <pad> <pad> <pad> <pad> <pad> <pad> <pad> <pad> <pad> <pad> <pad> <pad> <pad> <pad> <pad> <pad> <pad> <pad> <pad> <pad> <pad> <pad> <pad> <pad> <pad> <pad> <pad> <pad> <pad> <pad> <pad> <pad> <pad> <pad> <pad> <pad> <pad> <pad> <pad> <pad> <pad> <pad> <pad> <pad> <pad> <pad> <pad> \n",
      "\n",
      "<s>remains utterly satisfied to remain the same throughout </s><pad><pad><pad><pad><pad><pad><pad><pad><pad><pad><pad><pad><pad><pad><pad><pad><pad><pad><pad><pad><pad><pad><pad><pad><pad><pad><pad><pad><pad><pad><pad><pad><pad><pad><pad><pad><pad><pad><pad><pad><pad><pad><pad><pad><pad><pad><pad><pad><pad><pad><pad><pad><pad><pad><pad><pad><pad><pad><pad><pad><pad><pad><pad><pad><pad><pad><pad><pad><pad><pad><pad><pad><pad><pad><pad><pad><pad><pad><pad><pad><pad><pad><pad><pad><pad><pad><pad><pad><pad><pad><pad><pad><pad><pad><pad><pad><pad><pad><pad><pad><pad><pad><pad><pad><pad><pad><pad><pad><pad><pad><pad><pad><pad><pad><pad><pad>\n",
      "<pad> <pad> <pad> <pad> <pad> <pad> <pad> <pad> <pad> <pad> <pad> <pad> <pad> <pad> <pad> <pad> <pad> <pad> <pad> <pad> <pad> <pad> <pad> <pad> <pad> <pad> <pad> <pad> <pad> <pad> <pad> <pad> <pad> <pad> <pad> <pad> <pad> <pad> <pad> <pad> <pad> <pad> <pad> <pad> <pad> <pad> <pad> <pad> <pad> <pad> <pad> <pad> <pad> <pad> <pad> <pad> <pad> <pad> <pad> <pad> <pad> <pad> <pad> <pad> <pad> <pad> <pad> <pad> <pad> <pad> <pad> <pad> <pad> <pad> <pad> <pad> <pad> <pad> <pad> <pad> <pad> <pad> <pad> <pad> <pad> <pad> <pad> <pad> <pad> <pad> <pad> <pad> <pad> <pad> <pad> <pad> <pad> <pad> <pad> <pad> <pad> <pad> <pad> <pad> <pad> <pad> <pad> <pad> <pad> <pad> <pad> <pad> <pad> <pad> <pad> <pad> <pad> <pad> <pad> <pad> <pad> <pad> <pad> <pad> <pad> <pad> <pad> <pad> \n",
      "\n",
      "<s>on the worst revenge-of-the-nerds clichés the filmmakers could dredge up </s><pad><pad><pad><pad><pad><pad><pad><pad><pad><pad><pad><pad><pad><pad><pad><pad><pad><pad><pad><pad><pad><pad><pad><pad><pad><pad><pad><pad><pad><pad><pad><pad><pad><pad><pad><pad><pad><pad><pad><pad><pad><pad><pad><pad><pad><pad><pad><pad><pad><pad><pad><pad><pad><pad><pad><pad><pad><pad><pad><pad><pad><pad><pad><pad><pad><pad><pad><pad><pad><pad><pad><pad><pad><pad><pad><pad><pad><pad><pad><pad><pad><pad><pad><pad><pad><pad><pad><pad><pad><pad><pad><pad><pad><pad><pad><pad><pad><pad><pad><pad><pad><pad><pad><pad><pad><pad>\n",
      "<pad> <pad> <pad> <pad> <pad> <pad> <pad> <pad> <pad> <pad> <pad> <pad> <pad> <pad> <pad> <pad> <pad> <pad> <pad> <pad> <pad> <pad> <pad> <pad> <pad> <pad> <pad> <pad> <pad> <pad> <pad> <pad> <pad> <pad> <pad> <pad> <pad> <pad> <pad> <pad> <pad> <pad> <pad> <pad> <pad> <pad> <pad> <pad> <pad> <pad> <pad> <pad> <pad> <pad> <pad> <pad> <pad> <pad> <pad> <pad> <pad> <pad> <pad> <pad> <pad> <pad> <pad> <pad> <pad> <pad> <pad> <pad> <pad> <pad> <pad> <pad> <pad> <pad> <pad> <pad> <pad> <pad> <pad> <pad> <pad> <pad> <pad> <pad> <pad> <pad> <pad> <pad> <pad> <pad> <pad> <pad> <pad> <pad> <pad> <pad> <pad> <pad> <pad> <pad> <pad> <pad> <pad> <pad> <pad> <pad> <pad> <pad> <pad> <pad> <pad> <pad> <pad> <pad> <pad> <pad> <pad> <pad> <pad> <pad> <pad> <pad> <pad> <pad> \n",
      "\n",
      "<s>that's far too tragic to merit such superficial treatment </s><pad><pad><pad><pad><pad><pad><pad><pad><pad><pad><pad><pad><pad><pad><pad><pad><pad><pad><pad><pad><pad><pad><pad><pad><pad><pad><pad><pad><pad><pad><pad><pad><pad><pad><pad><pad><pad><pad><pad><pad><pad><pad><pad><pad><pad><pad><pad><pad><pad><pad><pad><pad><pad><pad><pad><pad><pad><pad><pad><pad><pad><pad><pad><pad><pad><pad><pad><pad><pad><pad><pad><pad><pad><pad><pad><pad><pad><pad><pad><pad><pad><pad><pad><pad><pad><pad><pad><pad><pad><pad><pad><pad><pad><pad><pad><pad><pad><pad><pad><pad><pad><pad><pad><pad><pad><pad><pad><pad><pad><pad><pad><pad><pad><pad>\n",
      "<pad> <pad> <pad> <pad> <pad> <pad> <pad> <pad> <pad> <pad> <pad> <pad> <pad> <pad> <pad> <pad> <pad> <pad> <pad> <pad> <pad> <pad> <pad> <pad> <pad> <pad> <pad> <pad> <pad> <pad> <pad> <pad> <pad> <pad> <pad> <pad> <pad> <pad> <pad> <pad> <pad> <pad> <pad> <pad> <pad> <pad> <pad> <pad> <pad> <pad> <pad> <pad> <pad> <pad> <pad> <pad> <pad> <pad> <pad> <pad> <pad> <pad> <pad> <pad> <pad> <pad> <pad> <pad> <pad> <pad> <pad> <pad> <pad> <pad> <pad> <pad> <pad> <pad> <pad> <pad> <pad> <pad> <pad> <pad> <pad> <pad> <pad> <pad> <pad> <pad> <pad> <pad> <pad> <pad> <pad> <pad> <pad> <pad> <pad> <pad> <pad> <pad> <pad> <pad> <pad> <pad> <pad> <pad> <pad> <pad> <pad> <pad> <pad> <pad> <pad> <pad> <pad> <pad> <pad> <pad> <pad> <pad> <pad> <pad> <pad> <pad> <pad> <pad> \n",
      "\n",
      "<s>demonstrates that the director of such hollywood blockbusters as patriot games can still turn out a small, personal film with an emotional wallop. </s><pad><pad><pad><pad><pad><pad><pad><pad><pad><pad><pad><pad><pad><pad><pad><pad><pad><pad><pad><pad><pad><pad><pad><pad><pad><pad><pad><pad><pad><pad><pad><pad><pad><pad><pad><pad><pad><pad><pad><pad><pad><pad><pad><pad><pad><pad><pad><pad><pad><pad><pad><pad><pad><pad><pad><pad><pad><pad><pad><pad><pad><pad><pad><pad><pad><pad><pad><pad><pad><pad><pad><pad><pad><pad><pad><pad><pad><pad><pad><pad><pad><pad><pad><pad><pad><pad><pad><pad><pad><pad><pad><pad><pad><pad><pad>\n",
      "<pad> <pad> <pad> <pad> <pad> <pad> <pad> <pad> <pad> <pad> <pad> <pad> <pad> <pad> <pad> <pad> <pad> <pad> <pad> <pad> <pad> <pad> <pad> <pad> <pad> <pad> <pad> <pad> <pad> <pad> <pad> <pad> <pad> <pad> <pad> <pad> <pad> <pad> <pad> <pad> <pad> <pad> <pad> <pad> <pad> <pad> <pad> <pad> <pad> <pad> <pad> <pad> <pad> <pad> <pad> <pad> <pad> <pad> <pad> <pad> <pad> <pad> <pad> <pad> <pad> <pad> <pad> <pad> <pad> <pad> <pad> <pad> <pad> <pad> <pad> <pad> <pad> <pad> <pad> <pad> <pad> <pad> <pad> <pad> <pad> <pad> <pad> <pad> <pad> <pad> <pad> <pad> <pad> <pad> <pad> <pad> <pad> <pad> <pad> <pad> <pad> <pad> <pad> <pad> <pad> <pad> <pad> <pad> <pad> <pad> <pad> <pad> <pad> <pad> <pad> <pad> <pad> <pad> <pad> <pad> <pad> <pad> <pad> <pad> <pad> <pad> <pad> <pad> \n",
      "\n",
      "<s>of saucy </s><pad><pad><pad><pad><pad><pad><pad><pad><pad><pad><pad><pad><pad><pad><pad><pad><pad><pad><pad><pad><pad><pad><pad><pad><pad><pad><pad><pad><pad><pad><pad><pad><pad><pad><pad><pad><pad><pad><pad><pad><pad><pad><pad><pad><pad><pad><pad><pad><pad><pad><pad><pad><pad><pad><pad><pad><pad><pad><pad><pad><pad><pad><pad><pad><pad><pad><pad><pad><pad><pad><pad><pad><pad><pad><pad><pad><pad><pad><pad><pad><pad><pad><pad><pad><pad><pad><pad><pad><pad><pad><pad><pad><pad><pad><pad><pad><pad><pad><pad><pad><pad><pad><pad><pad><pad><pad><pad><pad><pad><pad><pad><pad><pad><pad><pad><pad><pad><pad><pad><pad><pad>\n",
      "<pad> <pad> <pad> <pad> <pad> <pad> <pad> <pad> <pad> <pad> <pad> <pad> <pad> <pad> <pad> <pad> <pad> <pad> <pad> <pad> <pad> <pad> <pad> <pad> <pad> <pad> <pad> <pad> <pad> <pad> <pad> <pad> <pad> <pad> <pad> <pad> <pad> <pad> <pad> <pad> <pad> <pad> <pad> <pad> <pad> <pad> <pad> <pad> <pad> <pad> <pad> <pad> <pad> <pad> <pad> <pad> <pad> <pad> <pad> <pad> <pad> <pad> <pad> <pad> <pad> <pad> <pad> <pad> <pad> <pad> <pad> <pad> <pad> <pad> <pad> <pad> <pad> <pad> <pad> <pad> <pad> <pad> <pad> <pad> <pad> <pad> <pad> <pad> <pad> <pad> <pad> <pad> <pad> <pad> <pad> <pad> <pad> <pad> <pad> <pad> <pad> <pad> <pad> <pad> <pad> <pad> <pad> <pad> <pad> <pad> <pad> <pad> <pad> <pad> <pad> <pad> <pad> <pad> <pad> <pad> <pad> <pad> <pad> <pad> <pad> <pad> <pad> <pad> \n",
      "\n",
      "<s>a depressed fifteen-year-old's suicidal poetry </s><pad><pad><pad><pad><pad><pad><pad><pad><pad><pad><pad><pad><pad><pad><pad><pad><pad><pad><pad><pad><pad><pad><pad><pad><pad><pad><pad><pad><pad><pad><pad><pad><pad><pad><pad><pad><pad><pad><pad><pad><pad><pad><pad><pad><pad><pad><pad><pad><pad><pad><pad><pad><pad><pad><pad><pad><pad><pad><pad><pad><pad><pad><pad><pad><pad><pad><pad><pad><pad><pad><pad><pad><pad><pad><pad><pad><pad><pad><pad><pad><pad><pad><pad><pad><pad><pad><pad><pad><pad><pad><pad><pad><pad><pad><pad><pad><pad><pad><pad><pad><pad><pad><pad><pad><pad><pad><pad><pad><pad><pad><pad><pad><pad><pad>\n",
      "<pad> <pad> <pad> <pad> <pad> <pad> <pad> <pad> <pad> <pad> <pad> <pad> <pad> <pad> <pad> <pad> <pad> <pad> <pad> <pad> <pad> <pad> <pad> <pad> <pad> <pad> <pad> <pad> <pad> <pad> <pad> <pad> <pad> <pad> <pad> <pad> <pad> <pad> <pad> <pad> <pad> <pad> <pad> <pad> <pad> <pad> <pad> <pad> <pad> <pad> <pad> <pad> <pad> <pad> <pad> <pad> <pad> <pad> <pad> <pad> <pad> <pad> <pad> <pad> <pad> <pad> <pad> <pad> <pad> <pad> <pad> <pad> <pad> <pad> <pad> <pad> <pad> <pad> <pad> <pad> <pad> <pad> <pad> <pad> <pad> <pad> <pad> <pad> <pad> <pad> <pad> <pad> <pad> <pad> <pad> <pad> <pad> <pad> <pad> <pad> <pad> <pad> <pad> <pad> <pad> <pad> <pad> <pad> <pad> <pad> <pad> <pad> <pad> <pad> <pad> <pad> <pad> <pad> <pad> <pad> <pad> <pad> <pad> <pad> <pad> <pad> <pad> <pad> \n",
      "\n",
      "<s>are more deeply thought through than in most ` right-thinking'films </s><pad><pad><pad><pad><pad><pad><pad><pad><pad><pad><pad><pad><pad><pad><pad><pad><pad><pad><pad><pad><pad><pad><pad><pad><pad><pad><pad><pad><pad><pad><pad><pad><pad><pad><pad><pad><pad><pad><pad><pad><pad><pad><pad><pad><pad><pad><pad><pad><pad><pad><pad><pad><pad><pad><pad><pad><pad><pad><pad><pad><pad><pad><pad><pad><pad><pad><pad><pad><pad><pad><pad><pad><pad><pad><pad><pad><pad><pad><pad><pad><pad><pad><pad><pad><pad><pad><pad><pad><pad><pad><pad><pad><pad><pad><pad><pad><pad><pad><pad><pad><pad><pad><pad><pad><pad><pad><pad><pad><pad><pad><pad>\n",
      "<pad> <pad> <pad> <pad> <pad> <pad> <pad> <pad> <pad> <pad> <pad> <pad> <pad> <pad> <pad> <pad> <pad> <pad> <pad> <pad> <pad> <pad> <pad> <pad> <pad> <pad> <pad> <pad> <pad> <pad> <pad> <pad> <pad> <pad> <pad> <pad> <pad> <pad> <pad> <pad> <pad> <pad> <pad> <pad> <pad> <pad> <pad> <pad> <pad> <pad> <pad> <pad> <pad> <pad> <pad> <pad> <pad> <pad> <pad> <pad> <pad> <pad> <pad> <pad> <pad> <pad> <pad> <pad> <pad> <pad> <pad> <pad> <pad> <pad> <pad> <pad> <pad> <pad> <pad> <pad> <pad> <pad> <pad> <pad> <pad> <pad> <pad> <pad> <pad> <pad> <pad> <pad> <pad> <pad> <pad> <pad> <pad> <pad> <pad> <pad> <pad> <pad> <pad> <pad> <pad> <pad> <pad> <pad> <pad> <pad> <pad> <pad> <pad> <pad> <pad> <pad> <pad> <pad> <pad> <pad> <pad> <pad> <pad> <pad> <pad> <pad> <pad> <pad> \n",
      "\n",
      "<s>goes to absurd lengths </s><pad><pad><pad><pad><pad><pad><pad><pad><pad><pad><pad><pad><pad><pad><pad><pad><pad><pad><pad><pad><pad><pad><pad><pad><pad><pad><pad><pad><pad><pad><pad><pad><pad><pad><pad><pad><pad><pad><pad><pad><pad><pad><pad><pad><pad><pad><pad><pad><pad><pad><pad><pad><pad><pad><pad><pad><pad><pad><pad><pad><pad><pad><pad><pad><pad><pad><pad><pad><pad><pad><pad><pad><pad><pad><pad><pad><pad><pad><pad><pad><pad><pad><pad><pad><pad><pad><pad><pad><pad><pad><pad><pad><pad><pad><pad><pad><pad><pad><pad><pad><pad><pad><pad><pad><pad><pad><pad><pad><pad><pad><pad><pad><pad><pad><pad><pad><pad><pad><pad><pad>\n",
      "<pad> <pad> <pad> <pad> <pad> <pad> <pad> <pad> <pad> <pad> <pad> <pad> <pad> <pad> <pad> <pad> <pad> <pad> <pad> <pad> <pad> <pad> <pad> <pad> <pad> <pad> <pad> <pad> <pad> <pad> <pad> <pad> <pad> <pad> <pad> <pad> <pad> <pad> <pad> <pad> <pad> <pad> <pad> <pad> <pad> <pad> <pad> <pad> <pad> <pad> <pad> <pad> <pad> <pad> <pad> <pad> <pad> <pad> <pad> <pad> <pad> <pad> <pad> <pad> <pad> <pad> <pad> <pad> <pad> <pad> <pad> <pad> <pad> <pad> <pad> <pad> <pad> <pad> <pad> <pad> <pad> <pad> <pad> <pad> <pad> <pad> <pad> <pad> <pad> <pad> <pad> <pad> <pad> <pad> <pad> <pad> <pad> <pad> <pad> <pad> <pad> <pad> <pad> <pad> <pad> <pad> <pad> <pad> <pad> <pad> <pad> <pad> <pad> <pad> <pad> <pad> <pad> <pad> <pad> <pad> <pad> <pad> <pad> <pad> <pad> <pad> <pad> <pad> \n",
      "\n",
      "<s>for those moviegoers who complain that ` they don't make movies like they used to anymore </s><pad><pad><pad><pad><pad><pad><pad><pad><pad><pad><pad><pad><pad><pad><pad><pad><pad><pad><pad><pad><pad><pad><pad><pad><pad><pad><pad><pad><pad><pad><pad><pad><pad><pad><pad><pad><pad><pad><pad><pad><pad><pad><pad><pad><pad><pad><pad><pad><pad><pad><pad><pad><pad><pad><pad><pad><pad><pad><pad><pad><pad><pad><pad><pad><pad><pad><pad><pad><pad><pad><pad><pad><pad><pad><pad><pad><pad><pad><pad><pad><pad><pad><pad><pad><pad><pad><pad><pad><pad><pad><pad><pad><pad><pad><pad><pad><pad><pad><pad><pad><pad><pad><pad><pad><pad><pad>\n",
      "<pad> <pad> <pad> <pad> <pad> <pad> <pad> <pad> <pad> <pad> <pad> <pad> <pad> <pad> <pad> <pad> <pad> <pad> <pad> <pad> <pad> <pad> <pad> <pad> <pad> <pad> <pad> <pad> <pad> <pad> <pad> <pad> <pad> <pad> <pad> <pad> <pad> <pad> <pad> <pad> <pad> <pad> <pad> <pad> <pad> <pad> <pad> <pad> <pad> <pad> <pad> <pad> <pad> <pad> <pad> <pad> <pad> <pad> <pad> <pad> <pad> <pad> <pad> <pad> <pad> <pad> <pad> <pad> <pad> <pad> <pad> <pad> <pad> <pad> <pad> <pad> <pad> <pad> <pad> <pad> <pad> <pad> <pad> <pad> <pad> <pad> <pad> <pad> <pad> <pad> <pad> <pad> <pad> <pad> <pad> <pad> <pad> <pad> <pad> <pad> <pad> <pad> <pad> <pad> <pad> <pad> <pad> <pad> <pad> <pad> <pad> <pad> <pad> <pad> <pad> <pad> <pad> <pad> <pad> <pad> <pad> <pad> <pad> <pad> <pad> <pad> <pad> <pad> \n",
      "\n",
      "<s>the part where nothing's happening, </s><pad><pad><pad><pad><pad><pad><pad><pad><pad><pad><pad><pad><pad><pad><pad><pad><pad><pad><pad><pad><pad><pad><pad><pad><pad><pad><pad><pad><pad><pad><pad><pad><pad><pad><pad><pad><pad><pad><pad><pad><pad><pad><pad><pad><pad><pad><pad><pad><pad><pad><pad><pad><pad><pad><pad><pad><pad><pad><pad><pad><pad><pad><pad><pad><pad><pad><pad><pad><pad><pad><pad><pad><pad><pad><pad><pad><pad><pad><pad><pad><pad><pad><pad><pad><pad><pad><pad><pad><pad><pad><pad><pad><pad><pad><pad><pad><pad><pad><pad><pad><pad><pad><pad><pad><pad><pad><pad><pad><pad><pad><pad><pad><pad><pad><pad><pad><pad>\n",
      "<pad> <pad> <pad> <pad> <pad> <pad> <pad> <pad> <pad> <pad> <pad> <pad> <pad> <pad> <pad> <pad> <pad> <pad> <pad> <pad> <pad> <pad> <pad> <pad> <pad> <pad> <pad> <pad> <pad> <pad> <pad> <pad> <pad> <pad> <pad> <pad> <pad> <pad> <pad> <pad> <pad> <pad> <pad> <pad> <pad> <pad> <pad> <pad> <pad> <pad> <pad> <pad> <pad> <pad> <pad> <pad> <pad> <pad> <pad> <pad> <pad> <pad> <pad> <pad> <pad> <pad> <pad> <pad> <pad> <pad> <pad> <pad> <pad> <pad> <pad> <pad> <pad> <pad> <pad> <pad> <pad> <pad> <pad> <pad> <pad> <pad> <pad> <pad> <pad> <pad> <pad> <pad> <pad> <pad> <pad> <pad> <pad> <pad> <pad> <pad> <pad> <pad> <pad> <pad> <pad> <pad> <pad> <pad> <pad> <pad> <pad> <pad> <pad> <pad> <pad> <pad> <pad> <pad> <pad> <pad> <pad> <pad> <pad> <pad> <pad> <pad> <pad> <pad> \n",
      "\n",
      "<s>saw how bad this movie was </s><pad><pad><pad><pad><pad><pad><pad><pad><pad><pad><pad><pad><pad><pad><pad><pad><pad><pad><pad><pad><pad><pad><pad><pad><pad><pad><pad><pad><pad><pad><pad><pad><pad><pad><pad><pad><pad><pad><pad><pad><pad><pad><pad><pad><pad><pad><pad><pad><pad><pad><pad><pad><pad><pad><pad><pad><pad><pad><pad><pad><pad><pad><pad><pad><pad><pad><pad><pad><pad><pad><pad><pad><pad><pad><pad><pad><pad><pad><pad><pad><pad><pad><pad><pad><pad><pad><pad><pad><pad><pad><pad><pad><pad><pad><pad><pad><pad><pad><pad><pad><pad><pad><pad><pad><pad><pad><pad><pad><pad><pad><pad><pad><pad><pad><pad><pad><pad><pad><pad>\n",
      "<pad> <pad> <pad> <pad> <pad> <pad> <pad> <pad> <pad> <pad> <pad> <pad> <pad> <pad> <pad> <pad> <pad> <pad> <pad> <pad> <pad> <pad> <pad> <pad> <pad> <pad> <pad> <pad> <pad> <pad> <pad> <pad> <pad> <pad> <pad> <pad> <pad> <pad> <pad> <pad> <pad> <pad> <pad> <pad> <pad> <pad> <pad> <pad> <pad> <pad> <pad> <pad> <pad> <pad> <pad> <pad> <pad> <pad> <pad> <pad> <pad> <pad> <pad> <pad> <pad> <pad> <pad> <pad> <pad> <pad> <pad> <pad> <pad> <pad> <pad> <pad> <pad> <pad> <pad> <pad> <pad> <pad> <pad> <pad> <pad> <pad> <pad> <pad> <pad> <pad> <pad> <pad> <pad> <pad> <pad> <pad> <pad> <pad> <pad> <pad> <pad> <pad> <pad> <pad> <pad> <pad> <pad> <pad> <pad> <pad> <pad> <pad> <pad> <pad> <pad> <pad> <pad> <pad> <pad> <pad> <pad> <pad> <pad> <pad> <pad> <pad> <pad> <pad> \n",
      "\n",
      "<s>lend some dignity to a dumb story </s><pad><pad><pad><pad><pad><pad><pad><pad><pad><pad><pad><pad><pad><pad><pad><pad><pad><pad><pad><pad><pad><pad><pad><pad><pad><pad><pad><pad><pad><pad><pad><pad><pad><pad><pad><pad><pad><pad><pad><pad><pad><pad><pad><pad><pad><pad><pad><pad><pad><pad><pad><pad><pad><pad><pad><pad><pad><pad><pad><pad><pad><pad><pad><pad><pad><pad><pad><pad><pad><pad><pad><pad><pad><pad><pad><pad><pad><pad><pad><pad><pad><pad><pad><pad><pad><pad><pad><pad><pad><pad><pad><pad><pad><pad><pad><pad><pad><pad><pad><pad><pad><pad><pad><pad><pad><pad><pad><pad><pad><pad><pad><pad><pad><pad><pad><pad><pad>\n",
      "<pad> <pad> <pad> <pad> <pad> <pad> <pad> <pad> <pad> <pad> <pad> <pad> <pad> <pad> <pad> <pad> <pad> <pad> <pad> <pad> <pad> <pad> <pad> <pad> <pad> <pad> <pad> <pad> <pad> <pad> <pad> <pad> <pad> <pad> <pad> <pad> <pad> <pad> <pad> <pad> <pad> <pad> <pad> <pad> <pad> <pad> <pad> <pad> <pad> <pad> <pad> <pad> <pad> <pad> <pad> <pad> <pad> <pad> <pad> <pad> <pad> <pad> <pad> <pad> <pad> <pad> <pad> <pad> <pad> <pad> <pad> <pad> <pad> <pad> <pad> <pad> <pad> <pad> <pad> <pad> <pad> <pad> <pad> <pad> <pad> <pad> <pad> <pad> <pad> <pad> <pad> <pad> <pad> <pad> <pad> <pad> <pad> <pad> <pad> <pad> <pad> <pad> <pad> <pad> <pad> <pad> <pad> <pad> <pad> <pad> <pad> <pad> <pad> <pad> <pad> <pad> <pad> <pad> <pad> <pad> <pad> <pad> <pad> <pad> <pad> <pad> <pad> <pad> \n",
      "\n",
      "<s>the greatest musicians </s><pad><pad><pad><pad><pad><pad><pad><pad><pad><pad><pad><pad><pad><pad><pad><pad><pad><pad><pad><pad><pad><pad><pad><pad><pad><pad><pad><pad><pad><pad><pad><pad><pad><pad><pad><pad><pad><pad><pad><pad><pad><pad><pad><pad><pad><pad><pad><pad><pad><pad><pad><pad><pad><pad><pad><pad><pad><pad><pad><pad><pad><pad><pad><pad><pad><pad><pad><pad><pad><pad><pad><pad><pad><pad><pad><pad><pad><pad><pad><pad><pad><pad><pad><pad><pad><pad><pad><pad><pad><pad><pad><pad><pad><pad><pad><pad><pad><pad><pad><pad><pad><pad><pad><pad><pad><pad><pad><pad><pad><pad><pad><pad><pad><pad><pad><pad><pad><pad><pad><pad><pad><pad>\n",
      "<pad> <pad> <pad> <pad> <pad> <pad> <pad> <pad> <pad> <pad> <pad> <pad> <pad> <pad> <pad> <pad> <pad> <pad> <pad> <pad> <pad> <pad> <pad> <pad> <pad> <pad> <pad> <pad> <pad> <pad> <pad> <pad> <pad> <pad> <pad> <pad> <pad> <pad> <pad> <pad> <pad> <pad> <pad> <pad> <pad> <pad> <pad> <pad> <pad> <pad> <pad> <pad> <pad> <pad> <pad> <pad> <pad> <pad> <pad> <pad> <pad> <pad> <pad> <pad> <pad> <pad> <pad> <pad> <pad> <pad> <pad> <pad> <pad> <pad> <pad> <pad> <pad> <pad> <pad> <pad> <pad> <pad> <pad> <pad> <pad> <pad> <pad> <pad> <pad> <pad> <pad> <pad> <pad> <pad> <pad> <pad> <pad> <pad> <pad> <pad> <pad> <pad> <pad> <pad> <pad> <pad> <pad> <pad> <pad> <pad> <pad> <pad> <pad> <pad> <pad> <pad> <pad> <pad> <pad> <pad> <pad> <pad> <pad> <pad> <pad> <pad> <pad> <pad> \n",
      "\n",
      "<s>cold movie </s><pad><pad><pad><pad><pad><pad><pad><pad><pad><pad><pad><pad><pad><pad><pad><pad><pad><pad><pad><pad><pad><pad><pad><pad><pad><pad><pad><pad><pad><pad><pad><pad><pad><pad><pad><pad><pad><pad><pad><pad><pad><pad><pad><pad><pad><pad><pad><pad><pad><pad><pad><pad><pad><pad><pad><pad><pad><pad><pad><pad><pad><pad><pad><pad><pad><pad><pad><pad><pad><pad><pad><pad><pad><pad><pad><pad><pad><pad><pad><pad><pad><pad><pad><pad><pad><pad><pad><pad><pad><pad><pad><pad><pad><pad><pad><pad><pad><pad><pad><pad><pad><pad><pad><pad><pad><pad><pad><pad><pad><pad><pad><pad><pad><pad><pad><pad><pad><pad><pad><pad><pad><pad><pad>\n",
      "<pad> <pad> <pad> <pad> <pad> <pad> <pad> <pad> <pad> <pad> <pad> <pad> <pad> <pad> <pad> <pad> <pad> <pad> <pad> <pad> <pad> <pad> <pad> <pad> <pad> <pad> <pad> <pad> <pad> <pad> <pad> <pad> <pad> <pad> <pad> <pad> <pad> <pad> <pad> <pad> <pad> <pad> <pad> <pad> <pad> <pad> <pad> <pad> <pad> <pad> <pad> <pad> <pad> <pad> <pad> <pad> <pad> <pad> <pad> <pad> <pad> <pad> <pad> <pad> <pad> <pad> <pad> <pad> <pad> <pad> <pad> <pad> <pad> <pad> <pad> <pad> <pad> <pad> <pad> <pad> <pad> <pad> <pad> <pad> <pad> <pad> <pad> <pad> <pad> <pad> <pad> <pad> <pad> <pad> <pad> <pad> <pad> <pad> <pad> <pad> <pad> <pad> <pad> <pad> <pad> <pad> <pad> <pad> <pad> <pad> <pad> <pad> <pad> <pad> <pad> <pad> <pad> <pad> <pad> <pad> <pad> <pad> <pad> <pad> <pad> <pad> <pad> <pad> \n",
      "\n",
      "<s>with his usual intelligence and subtlety </s><pad><pad><pad><pad><pad><pad><pad><pad><pad><pad><pad><pad><pad><pad><pad><pad><pad><pad><pad><pad><pad><pad><pad><pad><pad><pad><pad><pad><pad><pad><pad><pad><pad><pad><pad><pad><pad><pad><pad><pad><pad><pad><pad><pad><pad><pad><pad><pad><pad><pad><pad><pad><pad><pad><pad><pad><pad><pad><pad><pad><pad><pad><pad><pad><pad><pad><pad><pad><pad><pad><pad><pad><pad><pad><pad><pad><pad><pad><pad><pad><pad><pad><pad><pad><pad><pad><pad><pad><pad><pad><pad><pad><pad><pad><pad><pad><pad><pad><pad><pad><pad><pad><pad><pad><pad><pad><pad><pad><pad><pad><pad><pad><pad><pad><pad><pad><pad><pad>\n",
      "<pad> <pad> <pad> <pad> <pad> <pad> <pad> <pad> <pad> <pad> <pad> <pad> <pad> <pad> <pad> <pad> <pad> <pad> <pad> <pad> <pad> <pad> <pad> <pad> <pad> <pad> <pad> <pad> <pad> <pad> <pad> <pad> <pad> <pad> <pad> <pad> <pad> <pad> <pad> <pad> <pad> <pad> <pad> <pad> <pad> <pad> <pad> <pad> <pad> <pad> <pad> <pad> <pad> <pad> <pad> <pad> <pad> <pad> <pad> <pad> <pad> <pad> <pad> <pad> <pad> <pad> <pad> <pad> <pad> <pad> <pad> <pad> <pad> <pad> <pad> <pad> <pad> <pad> <pad> <pad> <pad> <pad> <pad> <pad> <pad> <pad> <pad> <pad> <pad> <pad> <pad> <pad> <pad> <pad> <pad> <pad> <pad> <pad> <pad> <pad> <pad> <pad> <pad> <pad> <pad> <pad> <pad> <pad> <pad> <pad> <pad> <pad> <pad> <pad> <pad> <pad> <pad> <pad> <pad> <pad> <pad> <pad> <pad> <pad> <pad> <pad> <pad> <pad> \n",
      "\n",
      "<s>redundant concept </s><pad><pad><pad><pad><pad><pad><pad><pad><pad><pad><pad><pad><pad><pad><pad><pad><pad><pad><pad><pad><pad><pad><pad><pad><pad><pad><pad><pad><pad><pad><pad><pad><pad><pad><pad><pad><pad><pad><pad><pad><pad><pad><pad><pad><pad><pad><pad><pad><pad><pad><pad><pad><pad><pad><pad><pad><pad><pad><pad><pad><pad><pad><pad><pad><pad><pad><pad><pad><pad><pad><pad><pad><pad><pad><pad><pad><pad><pad><pad><pad><pad><pad><pad><pad><pad><pad><pad><pad><pad><pad><pad><pad><pad><pad><pad><pad><pad><pad><pad><pad><pad><pad><pad><pad><pad><pad><pad><pad><pad><pad><pad><pad><pad><pad><pad><pad><pad><pad><pad><pad><pad>\n",
      "<pad> <pad> <pad> <pad> <pad> <pad> <pad> <pad> <pad> <pad> <pad> <pad> <pad> <pad> <pad> <pad> <pad> <pad> <pad> <pad> <pad> <pad> <pad> <pad> <pad> <pad> <pad> <pad> <pad> <pad> <pad> <pad> <pad> <pad> <pad> <pad> <pad> <pad> <pad> <pad> <pad> <pad> <pad> <pad> <pad> <pad> <pad> <pad> <pad> <pad> <pad> <pad> <pad> <pad> <pad> <pad> <pad> <pad> <pad> <pad> <pad> <pad> <pad> <pad> <pad> <pad> <pad> <pad> <pad> <pad> <pad> <pad> <pad> <pad> <pad> <pad> <pad> <pad> <pad> <pad> <pad> <pad> <pad> <pad> <pad> <pad> <pad> <pad> <pad> <pad> <pad> <pad> <pad> <pad> <pad> <pad> <pad> <pad> <pad> <pad> <pad> <pad> <pad> <pad> <pad> <pad> <pad> <pad> <pad> <pad> <pad> <pad> <pad> <pad> <pad> <pad> <pad> <pad> <pad> <pad> <pad> <pad> <pad> <pad> <pad> <pad> <pad> <pad> \n",
      "\n",
      "<s>swimming is above all about a young woman's face, and by casting an actress whose face projects that woman's doubts and yearnings, it succeeds. </s><pad><pad><pad><pad><pad><pad><pad><pad><pad><pad><pad><pad><pad><pad><pad><pad><pad><pad><pad><pad><pad><pad><pad><pad><pad><pad><pad><pad><pad><pad><pad><pad><pad><pad><pad><pad><pad><pad><pad><pad><pad><pad><pad><pad><pad><pad><pad><pad><pad><pad><pad><pad><pad><pad><pad><pad><pad><pad><pad><pad><pad><pad><pad><pad><pad><pad><pad><pad><pad><pad><pad><pad><pad><pad><pad><pad><pad><pad><pad><pad><pad><pad><pad><pad><pad><pad><pad><pad><pad><pad><pad><pad>\n",
      "<pad> <pad> <pad> <pad> <pad> <pad> <pad> <pad> <pad> <pad> <pad> <pad> <pad> <pad> <pad> <pad> <pad> <pad> <pad> <pad> <pad> <pad> <pad> <pad> <pad> <pad> <pad> <pad> <pad> <pad> <pad> <pad> <pad> <pad> <pad> <pad> <pad> <pad> <pad> <pad> <pad> <pad> <pad> <pad> <pad> <pad> <pad> <pad> <pad> <pad> <pad> <pad> <pad> <pad> <pad> <pad> <pad> <pad> <pad> <pad> <pad> <pad> <pad> <pad> <pad> <pad> <pad> <pad> <pad> <pad> <pad> <pad> <pad> <pad> <pad> <pad> <pad> <pad> <pad> <pad> <pad> <pad> <pad> <pad> <pad> <pad> <pad> <pad> <pad> <pad> <pad> <pad> <pad> <pad> <pad> <pad> <pad> <pad> <pad> <pad> <pad> <pad> <pad> <pad> <pad> <pad> <pad> <pad> <pad> <pad> <pad> <pad> <pad> <pad> <pad> <pad> <pad> <pad> <pad> <pad> <pad> <pad> <pad> <pad> <pad> <pad> <pad> <pad> \n",
      "\n"
     ]
    }
   ],
   "source": [
    "'''\n",
    "VQ_Augmentation output to word\n",
    "'''\n",
    "\n",
    "outputs_vq = outputs_vq.to(device = 'cpu')\n",
    "get_embedding_to_token(total_embeddings, outputs_vq, inputs_token)"
   ]
  },
  {
   "cell_type": "code",
   "execution_count": 20,
   "metadata": {},
   "outputs": [
    {
     "name": "stdout",
     "output_type": "stream",
     "text": [
      "hide new secretions from the parental units \n",
      "<pad> <pad> <pad> <pad> <pad> <pad> <pad> <pad> <pad> <pad> <pad> <pad> <pad> <pad> <pad> <pad> <pad> <pad> <pad> <pad> <pad> <pad> <pad> <pad> <pad> <pad> <pad> <pad> <pad> <pad> <pad> <pad> <pad> <pad> <pad> <pad> <pad> <pad> <pad> <pad> <pad> <pad> <pad> <pad> <pad> <pad> <pad> <pad> <pad> <pad> <pad> <pad> <pad> <pad> <pad> <pad> <pad> <pad> <pad> <pad> <pad> <pad> <pad> <pad> <pad> <pad> <pad> <pad> <pad> <pad> <pad> <pad> <pad> <pad> <pad> <pad> <pad> <pad> <pad> <pad> <pad> <pad> <pad> <pad> <pad> <pad> <pad> <pad> <pad> <pad> <pad> <pad> <pad> <pad> <pad> <pad> <pad> <pad> <pad> <pad> <pad> <pad> <pad> <pad> <pad> <pad> <pad> <pad> <pad> <pad> <pad> <pad> <pad> <pad> <pad> <pad> <pad> <pad> <pad> <pad> <pad> <pad> <pad> <pad> <pad> <pad> <pad> <pad> \n",
      "\n",
      "contains no wit , only labored gags \n",
      "<pad> <pad> <pad> <pad> <pad> <pad> <pad> <pad> <pad> <pad> <pad> <pad> <pad> <pad> <pad> <pad> <pad> <pad> <pad> <pad> <pad> <pad> <pad> <pad> <pad> <pad> <pad> <pad> <pad> <pad> <pad> <pad> <pad> <pad> <pad> <pad> <pad> <pad> <pad> <pad> <pad> <pad> <pad> <pad> <pad> <pad> <pad> <pad> <pad> <pad> <pad> <pad> <pad> <pad> <pad> <pad> <pad> <pad> <pad> <pad> <pad> <pad> <pad> <pad> <pad> <pad> <pad> <pad> <pad> <pad> <pad> <pad> <pad> <pad> <pad> <pad> <pad> <pad> <pad> <pad> <pad> <pad> <pad> <pad> <pad> <pad> <pad> <pad> <pad> <pad> <pad> <pad> <pad> <pad> <pad> <pad> <pad> <pad> <pad> <pad> <pad> <pad> <pad> <pad> <pad> <pad> <pad> <pad> <pad> <pad> <pad> <pad> <pad> <pad> <pad> <pad> <pad> <pad> <pad> <pad> <pad> <pad> <pad> <pad> <pad> <pad> <pad> <pad> \n",
      "\n",
      "that loves its characters and communicates something rather beautiful about human nature \n",
      "<pad> <pad> <pad> <pad> <pad> <pad> <pad> <pad> <pad> <pad> <pad> <pad> <pad> <pad> <pad> <pad> <pad> <pad> <pad> <pad> <pad> <pad> <pad> <pad> <pad> <pad> <pad> <pad> <pad> <pad> <pad> <pad> <pad> <pad> <pad> <pad> <pad> <pad> <pad> <pad> <pad> <pad> <pad> <pad> <pad> <pad> <pad> <pad> <pad> <pad> <pad> <pad> <pad> <pad> <pad> <pad> <pad> <pad> <pad> <pad> <pad> <pad> <pad> <pad> <pad> <pad> <pad> <pad> <pad> <pad> <pad> <pad> <pad> <pad> <pad> <pad> <pad> <pad> <pad> <pad> <pad> <pad> <pad> <pad> <pad> <pad> <pad> <pad> <pad> <pad> <pad> <pad> <pad> <pad> <pad> <pad> <pad> <pad> <pad> <pad> <pad> <pad> <pad> <pad> <pad> <pad> <pad> <pad> <pad> <pad> <pad> <pad> <pad> <pad> <pad> <pad> <pad> <pad> <pad> <pad> <pad> <pad> <pad> <pad> <pad> <pad> <pad> <pad> \n",
      "\n",
      "remains utterly satisfied to remain the same throughout \n",
      "<pad> <pad> <pad> <pad> <pad> <pad> <pad> <pad> <pad> <pad> <pad> <pad> <pad> <pad> <pad> <pad> <pad> <pad> <pad> <pad> <pad> <pad> <pad> <pad> <pad> <pad> <pad> <pad> <pad> <pad> <pad> <pad> <pad> <pad> <pad> <pad> <pad> <pad> <pad> <pad> <pad> <pad> <pad> <pad> <pad> <pad> <pad> <pad> <pad> <pad> <pad> <pad> <pad> <pad> <pad> <pad> <pad> <pad> <pad> <pad> <pad> <pad> <pad> <pad> <pad> <pad> <pad> <pad> <pad> <pad> <pad> <pad> <pad> <pad> <pad> <pad> <pad> <pad> <pad> <pad> <pad> <pad> <pad> <pad> <pad> <pad> <pad> <pad> <pad> <pad> <pad> <pad> <pad> <pad> <pad> <pad> <pad> <pad> <pad> <pad> <pad> <pad> <pad> <pad> <pad> <pad> <pad> <pad> <pad> <pad> <pad> <pad> <pad> <pad> <pad> <pad> <pad> <pad> <pad> <pad> <pad> <pad> <pad> <pad> <pad> <pad> <pad> <pad> \n",
      "\n",
      "on the worst revenge-of-the-nerds clichés the filmmakers could dredge up \n",
      "<pad> <pad> <pad> <pad> <pad> <pad> <pad> <pad> <pad> <pad> <pad> <pad> <pad> <pad> <pad> <pad> <pad> <pad> <pad> <pad> <pad> <pad> <pad> <pad> <pad> <pad> <pad> <pad> <pad> <pad> <pad> <pad> <pad> <pad> <pad> <pad> <pad> <pad> <pad> <pad> <pad> <pad> <pad> <pad> <pad> <pad> <pad> <pad> <pad> <pad> <pad> <pad> <pad> <pad> <pad> <pad> <pad> <pad> <pad> <pad> <pad> <pad> <pad> <pad> <pad> <pad> <pad> <pad> <pad> <pad> <pad> <pad> <pad> <pad> <pad> <pad> <pad> <pad> <pad> <pad> <pad> <pad> <pad> <pad> <pad> <pad> <pad> <pad> <pad> <pad> <pad> <pad> <pad> <pad> <pad> <pad> <pad> <pad> <pad> <pad> <pad> <pad> <pad> <pad> <pad> <pad> <pad> <pad> <pad> <pad> <pad> <pad> <pad> <pad> <pad> <pad> <pad> <pad> <pad> <pad> <pad> <pad> <pad> <pad> <pad> <pad> <pad> <pad> \n",
      "\n"
     ]
    }
   ],
   "source": [
    "for i in range(5):\n",
    "    word_embedding = outputs_vq[i].detach()\n",
    "    print(sentences_data[i])\n",
    "    similarity = cosine_similarity(total_embeddings, word_embedding)\n",
    "    for i in range(similarity.shape[1]):\n",
    "        print(tokenizer.decode(similarity[:,i].argmax()), end = ' ')    \n",
    "        # print(tokenizer.decode(similarity[:,i].argmax()), end = ' ')\n",
    "    print('\\n')"
   ]
  },
  {
   "cell_type": "code",
   "execution_count": 31,
   "metadata": {},
   "outputs": [
    {
     "name": "stdout",
     "output_type": "stream",
     "text": [
      "hide new secretions from the parental units \n",
      " in  in  in  in  in  in  in  in  in  in  in  in  in  in  in  in  in  in  in  in  in  in  in  in  in  in  in  in  in  in  in  in  in  in  in  in  in  in  in  in  in  in  in  in  in  in  in  in  in  in  in  in  in  in  in  in  in  in  in  in  in  in  in  in  in  in  in  in  in  in  in  in  in  in  in  in  in  in  in  in  in  in  in  in  in  in  in  in  in  in  in  in  in  in  in  in  in  in  in  in  in  in  in  in  in  in  in  in  in  in  in  in  in  in  in  in  in  in  in  in  in  in  in  in  in  in  in  in \n",
      "\n",
      "contains no wit , only labored gags \n",
      " in  in  in  in  in  in  in  in  in  in  in  in  in  in  in  in  in  in  in  in  in  in  in  in  in  in  in  in  in  in  in  in  in  in  in  in  in  in  in  in  in  in  in  in  in  in  in  in  in  in  in  in  in  in  in  in  in  in  in  in  in  in  in  in  in  in  in  in  in  in  in  in  in  in  in  in  in  in  in  in  in  in  in  in  in  in  in  in  in  in  in  in  in  in  in  in  in  in  in  in  in  in  in  in  in  in  in  in  in  in  in  in  in  in  in  in  in  in  in  in  in  in  in  in  in  in  in  in \n",
      "\n",
      "that loves its characters and communicates something rather beautiful about human nature \n",
      " in  in  in  in  in  in  in  in  in  in  in  in  in  in  in  in  in  in  in  in  in  in  in  in  in  in  in  in  in  in  in  in  in  in  in  in  in  in  in  in  in  in  in  in  in  in  in  in  in  in  in  in  in  in  in  in  in  in  in  in  in  in  in  in  in  in  in  in  in  in  in  in  in  in  in  in  in  in  in  in  in  in  in  in  in  in  in  in  in  in  in  in  in  in  in  in  in  in  in  in  in  in  in  in  in  in  in  in  in  in  in  in  in  in  in  in  in  in  in  in  in  in  in  in  in  in  in  in \n",
      "\n",
      "remains utterly satisfied to remain the same throughout \n",
      " in  in  in  in  in  in  in  in  in  in  in  in  in  in  in  in  in  in  in  in  in  in  in  in  in  in  in  in  in  in  in  in  in  in  in  in  in  in  in  in  in  in  in  in  in  in  in  in  in  in  in  in  in  in  in  in  in  in  in  in  in  in  in  in  in  in  in  in  in  in  in  in  in  in  in  in  in  in  in  in  in  in  in  in  in  in  in  in  in  in  in  in  in  in  in  in  in  in  in  in  in  in  in  in  in  in  in  in  in  in  in  in  in  in  in  in  in  in  in  in  in  in  in  in  in  in  in  in \n",
      "\n",
      "on the worst revenge-of-the-nerds clichés the filmmakers could dredge up \n",
      " in  in  in  in  in  in  in  in  in  in  in  in  in  in  in  in  in  in  in  in  in  in  in  in  in  in  in  in  in  in  in  in  in  in  in  in  in  in  in  in  in  in  in  in  in  in  in  in  in  in  in  in  in  in  in  in  in  in  in  in  in  in  in  in  in  in  in  in  in  in  in  in  in  in  in  in  in  in  in  in  in  in  in  in  in  in  in  in  in  in  in  in  in  in  in  in  in  in  in  in  in  in  in  in  in  in  in  in  in  in  in  in  in  in  in  in  in  in  in  in  in  in  in  in  in  in  in  in \n",
      "\n"
     ]
    }
   ],
   "source": [
    "for i in range(5):\n",
    "    word_embedding = total_augmented_data[i].detach()\n",
    "    print(sentences_data[i])\n",
    "    similarity = cosine_similarity(embeddings, word_embedding)\n",
    "    for i in range(similarity.shape[1]):\n",
    "        print(tokenizer.decode(similarity[:,i].argmax()), end = ' ')    \n",
    "        # print(tokenizer.decode(similarity[:,i].argmax()), end = ' ')\n",
    "    print('\\n')"
   ]
  },
  {
   "cell_type": "code",
   "execution_count": 27,
   "metadata": {},
   "outputs": [
    {
     "data": {
      "text/plain": [
       "tensor([[  20.9179, -282.2273,  118.6781,  ...,  126.8360,  -90.4233,\n",
       "          160.1697],\n",
       "        [  22.5677, -282.0784,  120.0120,  ...,  125.6524,  -88.9789,\n",
       "          159.9776],\n",
       "        [  20.8950, -282.3316,  118.0566,  ...,  126.3345,  -90.3176,\n",
       "          160.0466],\n",
       "        ...,\n",
       "        [  21.1212, -282.0103,  117.8725,  ...,  126.2891,  -90.3391,\n",
       "          159.7347],\n",
       "        [  21.1212, -282.0103,  117.8725,  ...,  126.2891,  -90.3391,\n",
       "          159.7347],\n",
       "        [  21.1212, -282.0103,  117.8725,  ...,  126.2891,  -90.3391,\n",
       "          159.7347]], grad_fn=<SelectBackward0>)"
      ]
     },
     "execution_count": 27,
     "metadata": {},
     "output_type": "execute_result"
    }
   ],
   "source": [
    "outputs_vq[0]"
   ]
  },
  {
   "cell_type": "code",
   "execution_count": 21,
   "metadata": {},
   "outputs": [],
   "source": [
    "model = model.to(device = 'cuda:0')"
   ]
  },
  {
   "cell_type": "code",
   "execution_count": 29,
   "metadata": {},
   "outputs": [
    {
     "data": {
      "text/plain": [
       "torch.Size([20, 128, 1024])"
      ]
     },
     "execution_count": 29,
     "metadata": {},
     "output_type": "execute_result"
    }
   ],
   "source": [
    "outputs_vq.shape"
   ]
  },
  {
   "cell_type": "code",
   "execution_count": 32,
   "metadata": {},
   "outputs": [
    {
     "data": {
      "text/plain": [
       "torch.Size([128, 1024])"
      ]
     },
     "execution_count": 32,
     "metadata": {},
     "output_type": "execute_result"
    }
   ],
   "source": [
    "vq_input[0].shape"
   ]
  },
  {
   "cell_type": "code",
   "execution_count": 31,
   "metadata": {},
   "outputs": [
    {
     "data": {
      "text/plain": [
       "20"
      ]
     },
     "execution_count": 31,
     "metadata": {},
     "output_type": "execute_result"
    }
   ],
   "source": [
    "len(vq_input)"
   ]
  },
  {
   "cell_type": "code",
   "execution_count": 23,
   "metadata": {},
   "outputs": [
    {
     "name": "stdout",
     "output_type": "stream",
     "text": [
      "[0.00379766] [-0.02158549] [-0.01386246] [-0.01153744] [-0.03962187] [-0.03730913] [-0.02265387] [-0.05428257] [-0.05692041] [-0.00336626] [-0.01846707] [0.17039952] [0.17039952] [0.17039952] [0.17039952] [0.17039952] [0.17039952] [0.17039952] [0.17039952] [0.17039952] [0.17039952] [0.17039952] [0.17039952] [0.17039952] [0.17039952] [0.17039952] [0.17039952] [0.17039952] [0.17039952] [0.17039952] [0.17039952] [0.17039952] [0.17039952] [0.17039952] [0.17039952] [0.17039952] [0.17039952] [0.17039952] [0.17039952] [0.17039952] [0.17039952] [0.17039952] [0.17039952] [0.17039952] [0.17039952] [0.17039952] [0.17039952] [0.17039952] [0.17039952] [0.17039952] [0.17039952] [0.17039952] [0.17039952] [0.17039952] [0.17039952] [0.17039952] [0.17039952] [0.17039952] [0.17039952] [0.17039952] [0.17039952] [0.17039952] [0.17039952] [0.17039952] [0.17039952] [0.17039952] [0.17039952] [0.17039952] [0.17039952] [0.17039952] [0.17039952] [0.17039952] [0.17039952] [0.17039952] [0.17039952] [0.17039952] [0.17039952] [0.17039952] [0.17039952] [0.17039952] [0.17039952] [0.17039952] [0.17039952] [0.17039952] [0.17039952] [0.17039952] [0.17039952] [0.17039952] [0.17039952] [0.17039952] [0.17039952] [0.17039952] [0.17039952] [0.17039952] [0.17039952] [0.17039952] [0.17039952] [0.17039952] [0.17039952] [0.17039952] [0.17039952] [0.17039952] [0.17039952] [0.17039952] [0.17039952] [0.17039952] [0.17039952] [0.17039952] [0.17039952] [0.17039952] [0.17039952] [0.17039952] [0.17039952] [0.17039952] [0.17039952] [0.17039952] [0.17039952] [0.17039952] [0.17039952] [0.17039952] [0.17039952] [0.17039952] [0.17039952] [0.17039952] [0.17039952] [0.17039952] [0.17039952] [0.17039952] \n",
      "\n",
      "[0.00379766] [0.01999777] [-0.00731608] [-0.05457057] [-0.10847139] [-0.01074978] [-0.02170177] [-0.06883623] [-0.00975303] [-0.00608564] [-0.0256207] [-0.00336626] [-0.01846707] [0.17039952] [0.17039952] [0.17039952] [0.17039952] [0.17039952] [0.17039952] [0.17039952] [0.17039952] [0.17039952] [0.17039952] [0.17039952] [0.17039952] [0.17039952] [0.17039952] [0.17039952] [0.17039952] [0.17039952] [0.17039952] [0.17039952] [0.17039952] [0.17039952] [0.17039952] [0.17039952] [0.17039952] [0.17039952] [0.17039952] [0.17039952] [0.17039952] [0.17039952] [0.17039952] [0.17039952] [0.17039952] [0.17039952] [0.17039952] [0.17039952] [0.17039952] [0.17039952] [0.17039952] [0.17039952] [0.17039952] [0.17039952] [0.17039952] [0.17039952] [0.17039952] [0.17039952] [0.17039952] [0.17039952] [0.17039952] [0.17039952] [0.17039952] [0.17039952] [0.17039952] [0.17039952] [0.17039952] [0.17039952] [0.17039952] [0.17039952] [0.17039952] [0.17039952] [0.17039952] [0.17039952] [0.17039952] [0.17039952] [0.17039952] [0.17039952] [0.17039952] [0.17039952] [0.17039952] [0.17039952] [0.17039952] [0.17039952] [0.17039952] [0.17039952] [0.17039952] [0.17039952] [0.17039952] [0.17039952] [0.17039952] [0.17039952] [0.17039952] [0.17039952] [0.17039952] [0.17039952] [0.17039952] [0.17039952] [0.17039952] [0.17039952] [0.17039952] [0.17039952] [0.17039952] [0.17039952] [0.17039952] [0.17039952] [0.17039952] [0.17039952] [0.17039952] [0.17039952] [0.17039952] [0.17039952] [0.17039952] [0.17039952] [0.17039952] [0.17039952] [0.17039952] [0.17039952] [0.17039952] [0.17039952] [0.17039952] [0.17039952] [0.17039952] [0.17039952] [0.17039952] [0.17039952] [0.17039952] [0.17039952] \n",
      "\n",
      "[0.00380599] [-0.04881983] [-0.03744572] [-0.02263178] [-0.05468817] [-0.05462908] [-0.01063719] [-0.05106034] [-0.05268711] [-0.05260066] [-0.03685464] [-0.00112178] [-0.05156465] [-0.00336626] [-0.01844521] [0.17039952] [0.17039952] [0.17039952] [0.17039952] [0.17039952] [0.17039952] [0.17039952] [0.17039952] [0.17039952] [0.17039952] [0.17039952] [0.17039952] [0.17039952] [0.17039952] [0.17039952] [0.17039952] [0.17039952] [0.17039952] [0.17039952] [0.17039952] [0.17039952] [0.17039952] [0.17039952] [0.17039952] [0.17039952] [0.17039952] [0.17039952] [0.17039952] [0.17039952] [0.17039952] [0.17039952] [0.17039952] [0.17039952] [0.17039952] [0.17039952] [0.17039952] [0.17039952] [0.17039952] [0.17039952] [0.17039952] [0.17039952] [0.17039952] [0.17039952] [0.17039952] [0.17039952] [0.17039952] [0.17039952] [0.17039952] [0.17039952] [0.17039952] [0.17039952] [0.17039952] [0.17039952] [0.17039952] [0.17039952] [0.17039952] [0.17039952] [0.17039952] [0.17039952] [0.17039952] [0.17039952] [0.17039952] [0.17039952] [0.17039952] [0.17039952] [0.17039952] [0.17039952] [0.17039952] [0.17039952] [0.17039952] [0.17039952] [0.17039952] [0.17039952] [0.17039952] [0.17039952] [0.17039952] [0.17039952] [0.17039952] [0.17039952] [0.17039952] [0.17039952] [0.17039952] [0.17039952] [0.17039952] [0.17039952] [0.17039952] [0.17039952] [0.17039952] [0.17039952] [0.17039952] [0.17039952] [0.17039952] [0.17039952] [0.17039952] [0.17039952] [0.17039952] [0.17039952] [0.17039952] [0.17039952] [0.17039952] [0.17039952] [0.17039952] [0.17039952] [0.17039952] [0.17039952] [0.17039952] [0.17039952] [0.17039952] [0.17039952] [0.17039952] [0.17039952] [0.17039952] [0.17039952] \n",
      "\n",
      "[0.00379766] [-0.06109299] [-0.00731608] [-0.03517203] [-0.03576805] [-0.03798575] [-0.03372921] [-0.02265387] [-0.03579531] [-0.02336158] [-0.00336626] [-0.01846707] [0.17039952] [0.17039952] [0.17039952] [0.17039952] [0.17039952] [0.17039952] [0.17039952] [0.17039952] [0.17039952] [0.17039952] [0.17039952] [0.17039952] [0.17039952] [0.17039952] [0.17039952] [0.17039952] [0.17039952] [0.17039952] [0.17039952] [0.17039952] [0.17039952] [0.17039952] [0.17039952] [0.17039952] [0.17039952] [0.17039952] [0.17039952] [0.17039952] [0.17039952] [0.17039952] [0.17039952] [0.17039952] [0.17039952] [0.17039952] [0.17039952] [0.17039952] [0.17039952] [0.17039952] [0.17039952] [0.17039952] [0.17039952] [0.17039952] [0.17039952] [0.17039952] [0.17039952] [0.17039952] [0.17039952] [0.17039952] [0.17039952] [0.17039952] [0.17039952] [0.17039952] [0.17039952] [0.17039952] [0.17039952] [0.17039952] [0.17039952] [0.17039952] [0.17039952] [0.17039952] [0.17039952] [0.17039952] [0.17039952] [0.17039952] [0.17039952] [0.17039952] [0.17039952] [0.17039952] [0.17039952] [0.17039952] [0.17039952] [0.17039952] [0.17039952] [0.17039952] [0.17039952] [0.17039952] [0.17039952] [0.17039952] [0.17039952] [0.17039952] [0.17039952] [0.17039952] [0.17039952] [0.17039952] [0.17039952] [0.17039952] [0.17039952] [0.17039952] [0.17039952] [0.17039952] [0.17039952] [0.17039952] [0.17039952] [0.17039952] [0.17039952] [0.17039952] [0.17039952] [0.17039952] [0.17039952] [0.17039952] [0.17039952] [0.17039952] [0.17039952] [0.17039952] [0.17039952] [0.17039952] [0.17039952] [0.17039952] [0.17039952] [0.17039952] [0.17039952] [0.17039952] [0.17039952] [0.17039952] [0.17039952] [0.17039952] \n",
      "\n",
      "[0.00379766] [0.01298075] [-0.02265387] [-0.0579787] [-0.08131984] [-0.03821927] [-0.01495853] [-0.03821927] [0.0107021] [-0.03821927] [-0.00658389] [-0.02306788] [-0.05418995] [-0.03217807] [-0.02265387] [-0.08013376] [0.0043986] [-0.05843962] [-0.04052719] [-0.00250376] [-0.00336626] [-0.01846707] [0.17039952] [0.17039952] [0.17039952] [0.17039952] [0.17039952] [0.17039952] [0.17039952] [0.17039952] [0.17039952] [0.17039952] [0.17039952] [0.17039952] [0.17039952] [0.17039952] [0.17039952] [0.17039952] [0.17039952] [0.17039952] [0.17039952] [0.17039952] [0.17039952] [0.17039952] [0.17039952] [0.17039952] [0.17039952] [0.17039952] [0.17039952] [0.17039952] [0.17039952] [0.17039952] [0.17039952] [0.17039952] [0.17039952] [0.17039952] [0.17039952] [0.17039952] [0.17039952] [0.17039952] [0.17039952] [0.17039952] [0.17039952] [0.17039952] [0.17039952] [0.17039952] [0.17039952] [0.17039952] [0.17039952] [0.17039952] [0.17039952] [0.17039952] [0.17039952] [0.17039952] [0.17039952] [0.17039952] [0.17039952] [0.17039952] [0.17039952] [0.17039952] [0.17039952] [0.17039952] [0.17039952] [0.17039952] [0.17039952] [0.17039952] [0.17039952] [0.17039952] [0.17039952] [0.17039952] [0.17039952] [0.17039952] [0.17039952] [0.17039952] [0.17039952] [0.17039952] [0.17039952] [0.17039952] [0.17039952] [0.17039952] [0.17039952] [0.17039952] [0.17039952] [0.17039952] [0.17039952] [0.17039952] [0.17039952] [0.17039952] [0.17039952] [0.17039952] [0.17039952] [0.17039952] [0.17039952] [0.17039952] [0.17039952] [0.17039952] [0.17039952] [0.17039952] [0.17039952] [0.17039952] [0.17039952] [0.17039952] [0.17039952] [0.17039952] [0.17039952] [0.17039952] [0.17039952] [0.17039952] \n",
      "\n",
      "[0.00379766] [-0.04881983] [-0.02432112] [-0.01851838] [-0.06934399] [-0.08589095] [-0.02592333] [-0.03798575] [0.00812874] [-0.06595852] [-0.05518499] [-0.09102961] [-0.00336626] [-0.01846707] [0.17039952] [0.17039952] [0.17039952] [0.17039952] [0.17039952] [0.17039952] [0.17039952] [0.17039952] [0.17039952] [0.17039952] [0.17039952] [0.17039952] [0.17039952] [0.17039952] [0.17039952] [0.17039952] [0.17039952] [0.17039952] [0.17039952] [0.17039952] [0.17039952] [0.17039952] [0.17039952] [0.17039952] [0.17039952] [0.17039952] [0.17039952] [0.17039952] [0.17039952] [0.17039952] [0.17039952] [0.17039952] [0.17039952] [0.17039952] [0.17039952] [0.17039952] [0.17039952] [0.17039952] [0.17039952] [0.17039952] [0.17039952] [0.17039952] [0.17039952] [0.17039952] [0.17039952] [0.17039952] [0.17039952] [0.17039952] [0.17039952] [0.17039952] [0.17039952] [0.17039952] [0.17039952] [0.17039952] [0.17039952] [0.17039952] [0.17039952] [0.17039952] [0.17039952] [0.17039952] [0.17039952] [0.17039952] [0.17039952] [0.17039952] [0.17039952] [0.17039952] [0.17039952] [0.17039952] [0.17039952] [0.17039952] [0.17039952] [0.17039952] [0.17039952] [0.17039952] [0.17039952] [0.17039952] [0.17039952] [0.17039952] [0.17039952] [0.17039952] [0.17039952] [0.17039952] [0.17039952] [0.17039952] [0.17039952] [0.17039952] [0.17039952] [0.17039952] [0.17039952] [0.17039952] [0.17039952] [0.17039952] [0.17039952] [0.17039952] [0.17039952] [0.17039952] [0.17039952] [0.17039952] [0.17039952] [0.17039952] [0.17039952] [0.17039952] [0.17039952] [0.17039952] [0.17039952] [0.17039952] [0.17039952] [0.17039952] [0.17039952] [0.17039952] [0.17039952] [0.17039952] [0.17039952] [0.17039952] \n",
      "\n",
      "[0.00380599] [0.01957086] [0.02668111] [-0.04495982] [-0.09463266] [-0.02249479] [-0.06723085] [-0.04757234] [-0.06595852] [0.00584618] [-0.06485996] [0.0149895] [-0.03723847] [-0.05932278] [-0.03273705] [-0.08453679] [0.00447553] [-0.06239333] [-0.04050456] [-0.01403896] [-0.06482576] [-0.01933287] [-0.01065383] [-0.02441314] [-0.05490049] [-0.07102007] [-0.07750255] [-0.00826848] [-0.07297355] [0.01068916] [0.00941198] [-0.00336626] [-0.01844521] [0.17039952] [0.17039952] [0.17039952] [0.17039952] [0.17039952] [0.17039952] [0.17039952] [0.17039952] [0.17039952] [0.17039952] [0.17039952] [0.17039952] [0.17039952] [0.17039952] [0.17039952] [0.17039952] [0.17039952] [0.17039952] [0.17039952] [0.17039952] [0.17039952] [0.17039952] [0.17039952] [0.17039952] [0.17039952] [0.17039952] [0.17039952] [0.17039952] [0.17039952] [0.17039952] [0.17039952] [0.17039952] [0.17039952] [0.17039952] [0.17039952] [0.17039952] [0.17039952] [0.17039952] [0.17039952] [0.17039952] [0.17039952] [0.17039952] [0.17039952] [0.17039952] [0.17039952] [0.17039952] [0.17039952] [0.17039952] [0.17039952] [0.17039952] [0.17039952] [0.17039952] [0.17039952] [0.17039952] [0.17039952] [0.17039952] [0.17039952] [0.17039952] [0.17039952] [0.17039952] [0.17039952] [0.17039952] [0.17039952] [0.17039952] [0.17039952] [0.17039952] [0.17039952] [0.17039952] [0.17039952] [0.17039952] [0.17039952] [0.17039952] [0.17039952] [0.17039952] [0.17039952] [0.17039952] [0.17039952] [0.17039952] [0.17039952] [0.17039952] [0.17039952] [0.17039952] [0.17039952] [0.17039952] [0.17039952] [0.17039952] [0.17039952] [0.17039952] [0.17039952] [0.17039952] [0.17039952] [0.17039952] [0.17039952] [0.17039952] [0.17039952] \n",
      "\n",
      "[0.00380599] [-0.01495853] [-0.04847169] [-0.01103528] [0.01813389] [-0.00336626] [-0.01844521] [0.17039952] [0.17039952] [0.17039952] [0.17039952] [0.17039952] [0.17039952] [0.17039952] [0.17039952] [0.17039952] [0.17039952] [0.17039952] [0.17039952] [0.17039952] [0.17039952] [0.17039952] [0.17039952] [0.17039952] [0.17039952] [0.17039952] [0.17039952] [0.17039952] [0.17039952] [0.17039952] [0.17039952] [0.17039952] [0.17039952] [0.17039952] [0.17039952] [0.17039952] [0.17039952] [0.17039952] [0.17039952] [0.17039952] [0.17039952] [0.17039952] [0.17039952] [0.17039952] [0.17039952] [0.17039952] [0.17039952] [0.17039952] [0.17039952] [0.17039952] [0.17039952] [0.17039952] [0.17039952] [0.17039952] [0.17039952] [0.17039952] [0.17039952] [0.17039952] [0.17039952] [0.17039952] [0.17039952] [0.17039952] [0.17039952] [0.17039952] [0.17039952] [0.17039952] [0.17039952] [0.17039952] [0.17039952] [0.17039952] [0.17039952] [0.17039952] [0.17039952] [0.17039952] [0.17039952] [0.17039952] [0.17039952] [0.17039952] [0.17039952] [0.17039952] [0.17039952] [0.17039952] [0.17039952] [0.17039952] [0.17039952] [0.17039952] [0.17039952] [0.17039952] [0.17039952] [0.17039952] [0.17039952] [0.17039952] [0.17039952] [0.17039952] [0.17039952] [0.17039952] [0.17039952] [0.17039952] [0.17039952] [0.17039952] [0.17039952] [0.17039952] [0.17039952] [0.17039952] [0.17039952] [0.17039952] [0.17039952] [0.17039952] [0.17039952] [0.17039952] [0.17039952] [0.17039952] [0.17039952] [0.17039952] [0.17039952] [0.17039952] [0.17039952] [0.17039952] [0.17039952] [0.17039952] [0.17039952] [0.17039952] [0.17039952] [0.17039952] [0.17039952] [0.17039952] [0.17039952] [0.17039952] \n",
      "\n",
      "[0.00379766] [-0.01172408] [-0.0450982] [-0.01013464] [-0.03821927] [-0.0334084] [-0.03821927] [0.00900133] [-0.02432112] [-0.01851838] [-0.04037534] [-0.06457795] [-0.00336626] [-0.01846707] [0.17039952] [0.17039952] [0.17039952] [0.17039952] [0.17039952] [0.17039952] [0.17039952] [0.17039952] [0.17039952] [0.17039952] [0.17039952] [0.17039952] [0.17039952] [0.17039952] [0.17039952] [0.17039952] [0.17039952] [0.17039952] [0.17039952] [0.17039952] [0.17039952] [0.17039952] [0.17039952] [0.17039952] [0.17039952] [0.17039952] [0.17039952] [0.17039952] [0.17039952] [0.17039952] [0.17039952] [0.17039952] [0.17039952] [0.17039952] [0.17039952] [0.17039952] [0.17039952] [0.17039952] [0.17039952] [0.17039952] [0.17039952] [0.17039952] [0.17039952] [0.17039952] [0.17039952] [0.17039952] [0.17039952] [0.17039952] [0.17039952] [0.17039952] [0.17039952] [0.17039952] [0.17039952] [0.17039952] [0.17039952] [0.17039952] [0.17039952] [0.17039952] [0.17039952] [0.17039952] [0.17039952] [0.17039952] [0.17039952] [0.17039952] [0.17039952] [0.17039952] [0.17039952] [0.17039952] [0.17039952] [0.17039952] [0.17039952] [0.17039952] [0.17039952] [0.17039952] [0.17039952] [0.17039952] [0.17039952] [0.17039952] [0.17039952] [0.17039952] [0.17039952] [0.17039952] [0.17039952] [0.17039952] [0.17039952] [0.17039952] [0.17039952] [0.17039952] [0.17039952] [0.17039952] [0.17039952] [0.17039952] [0.17039952] [0.17039952] [0.17039952] [0.17039952] [0.17039952] [0.17039952] [0.17039952] [0.17039952] [0.17039952] [0.17039952] [0.17039952] [0.17039952] [0.17039952] [0.17039952] [0.17039952] [0.17039952] [0.17039952] [0.17039952] [0.17039952] [0.17039952] [0.17039952] [0.17039952] \n",
      "\n",
      "[0.00380599] [0.01422491] [-0.05724401] [-0.05826049] [-0.04431763] [-0.02015056] [-0.04228067] [-0.05788827] [-0.03900401] [-0.05704341] [-0.03733381] [-0.03817777] [-0.02354601] [-0.02432112] [-0.07888006] [-0.00336626] [-0.01844521] [0.17039952] [0.17039952] [0.17039952] [0.17039952] [0.17039952] [0.17039952] [0.17039952] [0.17039952] [0.17039952] [0.17039952] [0.17039952] [0.17039952] [0.17039952] [0.17039952] [0.17039952] [0.17039952] [0.17039952] [0.17039952] [0.17039952] [0.17039952] [0.17039952] [0.17039952] [0.17039952] [0.17039952] [0.17039952] [0.17039952] [0.17039952] [0.17039952] [0.17039952] [0.17039952] [0.17039952] [0.17039952] [0.17039952] [0.17039952] [0.17039952] [0.17039952] [0.17039952] [0.17039952] [0.17039952] [0.17039952] [0.17039952] [0.17039952] [0.17039952] [0.17039952] [0.17039952] [0.17039952] [0.17039952] [0.17039952] [0.17039952] [0.17039952] [0.17039952] [0.17039952] [0.17039952] [0.17039952] [0.17039952] [0.17039952] [0.17039952] [0.17039952] [0.17039952] [0.17039952] [0.17039952] [0.17039952] [0.17039952] [0.17039952] [0.17039952] [0.17039952] [0.17039952] [0.17039952] [0.17039952] [0.17039952] [0.17039952] [0.17039952] [0.17039952] [0.17039952] [0.17039952] [0.17039952] [0.17039952] [0.17039952] [0.17039952] [0.17039952] [0.17039952] [0.17039952] [0.17039952] [0.17039952] [0.17039952] [0.17039952] [0.17039952] [0.17039952] [0.17039952] [0.17039952] [0.17039952] [0.17039952] [0.17039952] [0.17039952] [0.17039952] [0.17039952] [0.17039952] [0.17039952] [0.17039952] [0.17039952] [0.17039952] [0.17039952] [0.17039952] [0.17039952] [0.17039952] [0.17039952] [0.17039952] [0.17039952] [0.17039952] [0.17039952] [0.17039952] \n",
      "\n",
      "[0.00379766] [-0.03019094] [-0.02965374] [-0.03798575] [-0.04038307] [-0.04731023] [-0.00336626] [-0.01846707] [0.17039952] [0.17039952] [0.17039952] [0.17039952] [0.17039952] [0.17039952] [0.17039952] [0.17039952] [0.17039952] [0.17039952] [0.17039952] [0.17039952] [0.17039952] [0.17039952] [0.17039952] [0.17039952] [0.17039952] [0.17039952] [0.17039952] [0.17039952] [0.17039952] [0.17039952] [0.17039952] [0.17039952] [0.17039952] [0.17039952] [0.17039952] [0.17039952] [0.17039952] [0.17039952] [0.17039952] [0.17039952] [0.17039952] [0.17039952] [0.17039952] [0.17039952] [0.17039952] [0.17039952] [0.17039952] [0.17039952] [0.17039952] [0.17039952] [0.17039952] [0.17039952] [0.17039952] [0.17039952] [0.17039952] [0.17039952] [0.17039952] [0.17039952] [0.17039952] [0.17039952] [0.17039952] [0.17039952] [0.17039952] [0.17039952] [0.17039952] [0.17039952] [0.17039952] [0.17039952] [0.17039952] [0.17039952] [0.17039952] [0.17039952] [0.17039952] [0.17039952] [0.17039952] [0.17039952] [0.17039952] [0.17039952] [0.17039952] [0.17039952] [0.17039952] [0.17039952] [0.17039952] [0.17039952] [0.17039952] [0.17039952] [0.17039952] [0.17039952] [0.17039952] [0.17039952] [0.17039952] [0.17039952] [0.17039952] [0.17039952] [0.17039952] [0.17039952] [0.17039952] [0.17039952] [0.17039952] [0.17039952] [0.17039952] [0.17039952] [0.17039952] [0.17039952] [0.17039952] [0.17039952] [0.17039952] [0.17039952] [0.17039952] [0.17039952] [0.17039952] [0.17039952] [0.17039952] [0.17039952] [0.17039952] [0.17039952] [0.17039952] [0.17039952] [0.17039952] [0.17039952] [0.17039952] [0.17039952] [0.17039952] [0.17039952] [0.17039952] [0.17039952] [0.17039952] [0.17039952] \n",
      "\n",
      "[0.00379766] [-0.00041087] [-0.03646917] [-0.075426] [-0.04299366] [-0.03863654] [-0.07423417] [-0.09463266] [-0.05704341] [-0.05560306] [-0.02810117] [0.00886232] [-0.05339445] [-0.04842443] [-0.09546708] [-0.05375737] [-0.05560306] [-0.03890709] [-0.03798575] [-0.06162179] [-0.00336626] [-0.01846707] [0.17039952] [0.17039952] [0.17039952] [0.17039952] [0.17039952] [0.17039952] [0.17039952] [0.17039952] [0.17039952] [0.17039952] [0.17039952] [0.17039952] [0.17039952] [0.17039952] [0.17039952] [0.17039952] [0.17039952] [0.17039952] [0.17039952] [0.17039952] [0.17039952] [0.17039952] [0.17039952] [0.17039952] [0.17039952] [0.17039952] [0.17039952] [0.17039952] [0.17039952] [0.17039952] [0.17039952] [0.17039952] [0.17039952] [0.17039952] [0.17039952] [0.17039952] [0.17039952] [0.17039952] [0.17039952] [0.17039952] [0.17039952] [0.17039952] [0.17039952] [0.17039952] [0.17039952] [0.17039952] [0.17039952] [0.17039952] [0.17039952] [0.17039952] [0.17039952] [0.17039952] [0.17039952] [0.17039952] [0.17039952] [0.17039952] [0.17039952] [0.17039952] [0.17039952] [0.17039952] [0.17039952] [0.17039952] [0.17039952] [0.17039952] [0.17039952] [0.17039952] [0.17039952] [0.17039952] [0.17039952] [0.17039952] [0.17039952] [0.17039952] [0.17039952] [0.17039952] [0.17039952] [0.17039952] [0.17039952] [0.17039952] [0.17039952] [0.17039952] [0.17039952] [0.17039952] [0.17039952] [0.17039952] [0.17039952] [0.17039952] [0.17039952] [0.17039952] [0.17039952] [0.17039952] [0.17039952] [0.17039952] [0.17039952] [0.17039952] [0.17039952] [0.17039952] [0.17039952] [0.17039952] [0.17039952] [0.17039952] [0.17039952] [0.17039952] [0.17039952] [0.17039952] [0.17039952] [0.17039952] \n",
      "\n",
      "[0.00379766] [0.0107021] [-0.02735611] [-0.01919556] [-0.04465571] [-0.02432112] [-0.01851838] [0.00610199] [-0.01074978] [-0.00336626] [-0.01846707] [0.17039952] [0.17039952] [0.17039952] [0.17039952] [0.17039952] [0.17039952] [0.17039952] [0.17039952] [0.17039952] [0.17039952] [0.17039952] [0.17039952] [0.17039952] [0.17039952] [0.17039952] [0.17039952] [0.17039952] [0.17039952] [0.17039952] [0.17039952] [0.17039952] [0.17039952] [0.17039952] [0.17039952] [0.17039952] [0.17039952] [0.17039952] [0.17039952] [0.17039952] [0.17039952] [0.17039952] [0.17039952] [0.17039952] [0.17039952] [0.17039952] [0.17039952] [0.17039952] [0.17039952] [0.17039952] [0.17039952] [0.17039952] [0.17039952] [0.17039952] [0.17039952] [0.17039952] [0.17039952] [0.17039952] [0.17039952] [0.17039952] [0.17039952] [0.17039952] [0.17039952] [0.17039952] [0.17039952] [0.17039952] [0.17039952] [0.17039952] [0.17039952] [0.17039952] [0.17039952] [0.17039952] [0.17039952] [0.17039952] [0.17039952] [0.17039952] [0.17039952] [0.17039952] [0.17039952] [0.17039952] [0.17039952] [0.17039952] [0.17039952] [0.17039952] [0.17039952] [0.17039952] [0.17039952] [0.17039952] [0.17039952] [0.17039952] [0.17039952] [0.17039952] [0.17039952] [0.17039952] [0.17039952] [0.17039952] [0.17039952] [0.17039952] [0.17039952] [0.17039952] [0.17039952] [0.17039952] [0.17039952] [0.17039952] [0.17039952] [0.17039952] [0.17039952] [0.17039952] [0.17039952] [0.17039952] [0.17039952] [0.17039952] [0.17039952] [0.17039952] [0.17039952] [0.17039952] [0.17039952] [0.17039952] [0.17039952] [0.17039952] [0.17039952] [0.17039952] [0.17039952] [0.17039952] [0.17039952] [0.17039952] [0.17039952] [0.17039952] \n",
      "\n",
      "[0.00379766] [-0.03669946] [-0.03844389] [-0.04658344] [-0.1226971] [-0.075426] [-0.06027409] [-0.00336626] [-0.01846707] [0.17039952] [0.17039952] [0.17039952] [0.17039952] [0.17039952] [0.17039952] [0.17039952] [0.17039952] [0.17039952] [0.17039952] [0.17039952] [0.17039952] [0.17039952] [0.17039952] [0.17039952] [0.17039952] [0.17039952] [0.17039952] [0.17039952] [0.17039952] [0.17039952] [0.17039952] [0.17039952] [0.17039952] [0.17039952] [0.17039952] [0.17039952] [0.17039952] [0.17039952] [0.17039952] [0.17039952] [0.17039952] [0.17039952] [0.17039952] [0.17039952] [0.17039952] [0.17039952] [0.17039952] [0.17039952] [0.17039952] [0.17039952] [0.17039952] [0.17039952] [0.17039952] [0.17039952] [0.17039952] [0.17039952] [0.17039952] [0.17039952] [0.17039952] [0.17039952] [0.17039952] [0.17039952] [0.17039952] [0.17039952] [0.17039952] [0.17039952] [0.17039952] [0.17039952] [0.17039952] [0.17039952] [0.17039952] [0.17039952] [0.17039952] [0.17039952] [0.17039952] [0.17039952] [0.17039952] [0.17039952] [0.17039952] [0.17039952] [0.17039952] [0.17039952] [0.17039952] [0.17039952] [0.17039952] [0.17039952] [0.17039952] [0.17039952] [0.17039952] [0.17039952] [0.17039952] [0.17039952] [0.17039952] [0.17039952] [0.17039952] [0.17039952] [0.17039952] [0.17039952] [0.17039952] [0.17039952] [0.17039952] [0.17039952] [0.17039952] [0.17039952] [0.17039952] [0.17039952] [0.17039952] [0.17039952] [0.17039952] [0.17039952] [0.17039952] [0.17039952] [0.17039952] [0.17039952] [0.17039952] [0.17039952] [0.17039952] [0.17039952] [0.17039952] [0.17039952] [0.17039952] [0.17039952] [0.17039952] [0.17039952] [0.17039952] [0.17039952] [0.17039952] [0.17039952] \n",
      "\n",
      "[0.00379766] [0.03616884] [-0.02424977] [-0.02061588] [-0.05076527] [-0.03798575] [-0.06488385] [-0.03596325] [-0.02525906] [-0.00336626] [-0.01846707] [0.17039952] [0.17039952] [0.17039952] [0.17039952] [0.17039952] [0.17039952] [0.17039952] [0.17039952] [0.17039952] [0.17039952] [0.17039952] [0.17039952] [0.17039952] [0.17039952] [0.17039952] [0.17039952] [0.17039952] [0.17039952] [0.17039952] [0.17039952] [0.17039952] [0.17039952] [0.17039952] [0.17039952] [0.17039952] [0.17039952] [0.17039952] [0.17039952] [0.17039952] [0.17039952] [0.17039952] [0.17039952] [0.17039952] [0.17039952] [0.17039952] [0.17039952] [0.17039952] [0.17039952] [0.17039952] [0.17039952] [0.17039952] [0.17039952] [0.17039952] [0.17039952] [0.17039952] [0.17039952] [0.17039952] [0.17039952] [0.17039952] [0.17039952] [0.17039952] [0.17039952] [0.17039952] [0.17039952] [0.17039952] [0.17039952] [0.17039952] [0.17039952] [0.17039952] [0.17039952] [0.17039952] [0.17039952] [0.17039952] [0.17039952] [0.17039952] [0.17039952] [0.17039952] [0.17039952] [0.17039952] [0.17039952] [0.17039952] [0.17039952] [0.17039952] [0.17039952] [0.17039952] [0.17039952] [0.17039952] [0.17039952] [0.17039952] [0.17039952] [0.17039952] [0.17039952] [0.17039952] [0.17039952] [0.17039952] [0.17039952] [0.17039952] [0.17039952] [0.17039952] [0.17039952] [0.17039952] [0.17039952] [0.17039952] [0.17039952] [0.17039952] [0.17039952] [0.17039952] [0.17039952] [0.17039952] [0.17039952] [0.17039952] [0.17039952] [0.17039952] [0.17039952] [0.17039952] [0.17039952] [0.17039952] [0.17039952] [0.17039952] [0.17039952] [0.17039952] [0.17039952] [0.17039952] [0.17039952] [0.17039952] [0.17039952] [0.17039952] \n",
      "\n",
      "[0.00380599] [0.01069641] [-0.04350899] [-0.05864191] [-0.00336626] [-0.01844521] [0.17039952] [0.17039952] [0.17039952] [0.17039952] [0.17039952] [0.17039952] [0.17039952] [0.17039952] [0.17039952] [0.17039952] [0.17039952] [0.17039952] [0.17039952] [0.17039952] [0.17039952] [0.17039952] [0.17039952] [0.17039952] [0.17039952] [0.17039952] [0.17039952] [0.17039952] [0.17039952] [0.17039952] [0.17039952] [0.17039952] [0.17039952] [0.17039952] [0.17039952] [0.17039952] [0.17039952] [0.17039952] [0.17039952] [0.17039952] [0.17039952] [0.17039952] [0.17039952] [0.17039952] [0.17039952] [0.17039952] [0.17039952] [0.17039952] [0.17039952] [0.17039952] [0.17039952] [0.17039952] [0.17039952] [0.17039952] [0.17039952] [0.17039952] [0.17039952] [0.17039952] [0.17039952] [0.17039952] [0.17039952] [0.17039952] [0.17039952] [0.17039952] [0.17039952] [0.17039952] [0.17039952] [0.17039952] [0.17039952] [0.17039952] [0.17039952] [0.17039952] [0.17039952] [0.17039952] [0.17039952] [0.17039952] [0.17039952] [0.17039952] [0.17039952] [0.17039952] [0.17039952] [0.17039952] [0.17039952] [0.17039952] [0.17039952] [0.17039952] [0.17039952] [0.17039952] [0.17039952] [0.17039952] [0.17039952] [0.17039952] [0.17039952] [0.17039952] [0.17039952] [0.17039952] [0.17039952] [0.17039952] [0.17039952] [0.17039952] [0.17039952] [0.17039952] [0.17039952] [0.17039952] [0.17039952] [0.17039952] [0.17039952] [0.17039952] [0.17039952] [0.17039952] [0.17039952] [0.17039952] [0.17039952] [0.17039952] [0.17039952] [0.17039952] [0.17039952] [0.17039952] [0.17039952] [0.17039952] [0.17039952] [0.17039952] [0.17039952] [0.17039952] [0.17039952] [0.17039952] [0.17039952] [0.17039952] \n",
      "\n",
      "[0.00379766] [-0.01457918] [-0.075426] [-0.00336626] [-0.01846707] [0.17039952] [0.17039952] [0.17039952] [0.17039952] [0.17039952] [0.17039952] [0.17039952] [0.17039952] [0.17039952] [0.17039952] [0.17039952] [0.17039952] [0.17039952] [0.17039952] [0.17039952] [0.17039952] [0.17039952] [0.17039952] [0.17039952] [0.17039952] [0.17039952] [0.17039952] [0.17039952] [0.17039952] [0.17039952] [0.17039952] [0.17039952] [0.17039952] [0.17039952] [0.17039952] [0.17039952] [0.17039952] [0.17039952] [0.17039952] [0.17039952] [0.17039952] [0.17039952] [0.17039952] [0.17039952] [0.17039952] [0.17039952] [0.17039952] [0.17039952] [0.17039952] [0.17039952] [0.17039952] [0.17039952] [0.17039952] [0.17039952] [0.17039952] [0.17039952] [0.17039952] [0.17039952] [0.17039952] [0.17039952] [0.17039952] [0.17039952] [0.17039952] [0.17039952] [0.17039952] [0.17039952] [0.17039952] [0.17039952] [0.17039952] [0.17039952] [0.17039952] [0.17039952] [0.17039952] [0.17039952] [0.17039952] [0.17039952] [0.17039952] [0.17039952] [0.17039952] [0.17039952] [0.17039952] [0.17039952] [0.17039952] [0.17039952] [0.17039952] [0.17039952] [0.17039952] [0.17039952] [0.17039952] [0.17039952] [0.17039952] [0.17039952] [0.17039952] [0.17039952] [0.17039952] [0.17039952] [0.17039952] [0.17039952] [0.17039952] [0.17039952] [0.17039952] [0.17039952] [0.17039952] [0.17039952] [0.17039952] [0.17039952] [0.17039952] [0.17039952] [0.17039952] [0.17039952] [0.17039952] [0.17039952] [0.17039952] [0.17039952] [0.17039952] [0.17039952] [0.17039952] [0.17039952] [0.17039952] [0.17039952] [0.17039952] [0.17039952] [0.17039952] [0.17039952] [0.17039952] [0.17039952] [0.17039952] [0.17039952] \n",
      "\n",
      "[0.00380599] [-0.03308769] [-0.01788768] [-0.02650497] [-0.06647238] [-0.05462908] [-0.05172935] [-0.02487142] [-0.00336626] [-0.01844521] [0.17039952] [0.17039952] [0.17039952] [0.17039952] [0.17039952] [0.17039952] [0.17039952] [0.17039952] [0.17039952] [0.17039952] [0.17039952] [0.17039952] [0.17039952] [0.17039952] [0.17039952] [0.17039952] [0.17039952] [0.17039952] [0.17039952] [0.17039952] [0.17039952] [0.17039952] [0.17039952] [0.17039952] [0.17039952] [0.17039952] [0.17039952] [0.17039952] [0.17039952] [0.17039952] [0.17039952] [0.17039952] [0.17039952] [0.17039952] [0.17039952] [0.17039952] [0.17039952] [0.17039952] [0.17039952] [0.17039952] [0.17039952] [0.17039952] [0.17039952] [0.17039952] [0.17039952] [0.17039952] [0.17039952] [0.17039952] [0.17039952] [0.17039952] [0.17039952] [0.17039952] [0.17039952] [0.17039952] [0.17039952] [0.17039952] [0.17039952] [0.17039952] [0.17039952] [0.17039952] [0.17039952] [0.17039952] [0.17039952] [0.17039952] [0.17039952] [0.17039952] [0.17039952] [0.17039952] [0.17039952] [0.17039952] [0.17039952] [0.17039952] [0.17039952] [0.17039952] [0.17039952] [0.17039952] [0.17039952] [0.17039952] [0.17039952] [0.17039952] [0.17039952] [0.17039952] [0.17039952] [0.17039952] [0.17039952] [0.17039952] [0.17039952] [0.17039952] [0.17039952] [0.17039952] [0.17039952] [0.17039952] [0.17039952] [0.17039952] [0.17039952] [0.17039952] [0.17039952] [0.17039952] [0.17039952] [0.17039952] [0.17039952] [0.17039952] [0.17039952] [0.17039952] [0.17039952] [0.17039952] [0.17039952] [0.17039952] [0.17039952] [0.17039952] [0.17039952] [0.17039952] [0.17039952] [0.17039952] [0.17039952] [0.17039952] [0.17039952] [0.17039952] \n",
      "\n",
      "[0.00379766] [-0.07332166] [-0.02853927] [-0.03066415] [-0.09145987] [-0.00336626] [-0.01846707] [0.17039952] [0.17039952] [0.17039952] [0.17039952] [0.17039952] [0.17039952] [0.17039952] [0.17039952] [0.17039952] [0.17039952] [0.17039952] [0.17039952] [0.17039952] [0.17039952] [0.17039952] [0.17039952] [0.17039952] [0.17039952] [0.17039952] [0.17039952] [0.17039952] [0.17039952] [0.17039952] [0.17039952] [0.17039952] [0.17039952] [0.17039952] [0.17039952] [0.17039952] [0.17039952] [0.17039952] [0.17039952] [0.17039952] [0.17039952] [0.17039952] [0.17039952] [0.17039952] [0.17039952] [0.17039952] [0.17039952] [0.17039952] [0.17039952] [0.17039952] [0.17039952] [0.17039952] [0.17039952] [0.17039952] [0.17039952] [0.17039952] [0.17039952] [0.17039952] [0.17039952] [0.17039952] [0.17039952] [0.17039952] [0.17039952] [0.17039952] [0.17039952] [0.17039952] [0.17039952] [0.17039952] [0.17039952] [0.17039952] [0.17039952] [0.17039952] [0.17039952] [0.17039952] [0.17039952] [0.17039952] [0.17039952] [0.17039952] [0.17039952] [0.17039952] [0.17039952] [0.17039952] [0.17039952] [0.17039952] [0.17039952] [0.17039952] [0.17039952] [0.17039952] [0.17039952] [0.17039952] [0.17039952] [0.17039952] [0.17039952] [0.17039952] [0.17039952] [0.17039952] [0.17039952] [0.17039952] [0.17039952] [0.17039952] [0.17039952] [0.17039952] [0.17039952] [0.17039952] [0.17039952] [0.17039952] [0.17039952] [0.17039952] [0.17039952] [0.17039952] [0.17039952] [0.17039952] [0.17039952] [0.17039952] [0.17039952] [0.17039952] [0.17039952] [0.17039952] [0.17039952] [0.17039952] [0.17039952] [0.17039952] [0.17039952] [0.17039952] [0.17039952] [0.17039952] [0.17039952] [0.17039952] \n",
      "\n",
      "[0.00380599] [-0.01340961] [-0.06997235] [-0.05748968] [-0.03100567] [-0.01002581] [-0.03685464] [-0.06482576] [-0.01091738] [-0.01084822] [-0.02432112] [-0.01851838] [0.01680652] [-0.01065383] [-0.05462908] [-0.05458315] [-0.03388787] [-0.07750255] [-0.06398661] [-0.00601574] [0.01680652] [-0.06284976] [-0.09463266] [-0.01084822] [-0.02432112] [-0.01851838] [-0.03609487] [-0.05462908] [-0.06714911] [-0.02315046] [-0.01065383] [-0.06847798] [-0.03195838] [0.00941198] [-0.00336626] [-0.01844521] [0.17039952] [0.17039952] [0.17039952] [0.17039952] [0.17039952] [0.17039952] [0.17039952] [0.17039952] [0.17039952] [0.17039952] [0.17039952] [0.17039952] [0.17039952] [0.17039952] [0.17039952] [0.17039952] [0.17039952] [0.17039952] [0.17039952] [0.17039952] [0.17039952] [0.17039952] [0.17039952] [0.17039952] [0.17039952] [0.17039952] [0.17039952] [0.17039952] [0.17039952] [0.17039952] [0.17039952] [0.17039952] [0.17039952] [0.17039952] [0.17039952] [0.17039952] [0.17039952] [0.17039952] [0.17039952] [0.17039952] [0.17039952] [0.17039952] [0.17039952] [0.17039952] [0.17039952] [0.17039952] [0.17039952] [0.17039952] [0.17039952] [0.17039952] [0.17039952] [0.17039952] [0.17039952] [0.17039952] [0.17039952] [0.17039952] [0.17039952] [0.17039952] [0.17039952] [0.17039952] [0.17039952] [0.17039952] [0.17039952] [0.17039952] [0.17039952] [0.17039952] [0.17039952] [0.17039952] [0.17039952] [0.17039952] [0.17039952] [0.17039952] [0.17039952] [0.17039952] [0.17039952] [0.17039952] [0.17039952] [0.17039952] [0.17039952] [0.17039952] [0.17039952] [0.17039952] [0.17039952] [0.17039952] [0.17039952] [0.17039952] [0.17039952] [0.17039952] [0.17039952] [0.17039952] [0.17039952] [0.17039952] \n",
      "\n"
     ]
    }
   ],
   "source": [
    "# vq_input과 vq_output 간의 cosine similarity\n",
    "\n",
    "for j in range(outputs_vq.shape[0]):\n",
    "    for i in range(outputs_vq.shape[1]):\n",
    "        print(cosine_similarity(outputs_vq[j][i].detach().numpy().reshape(1,-1),vq_input[j][i].detach().numpy().reshape(1,-1))[0], end = ' ')\n",
    "    print('\\n')"
   ]
  },
  {
   "cell_type": "code",
   "execution_count": null,
   "metadata": {},
   "outputs": [],
   "source": []
  }
 ],
 "metadata": {
  "kernelspec": {
   "display_name": "base",
   "language": "python",
   "name": "python3"
  },
  "language_info": {
   "codemirror_mode": {
    "name": "ipython",
    "version": 3
   },
   "file_extension": ".py",
   "mimetype": "text/x-python",
   "name": "python",
   "nbconvert_exporter": "python",
   "pygments_lexer": "ipython3",
   "version": "3.7.12"
  },
  "orig_nbformat": 4
 },
 "nbformat": 4,
 "nbformat_minor": 2
}
